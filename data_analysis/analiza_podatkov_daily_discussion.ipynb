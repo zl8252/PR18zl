{
 "cells": [
  {
   "cell_type": "markdown",
   "metadata": {},
   "source": [
    "# Analiza Podatkov: Daily Discussion"
   ]
  },
  {
   "cell_type": "code",
   "execution_count": 1,
   "metadata": {},
   "outputs": [],
   "source": [
    "import numpy as np\n",
    "\n",
    "import glob\n",
    "\n",
    "import os"
   ]
  },
  {
   "cell_type": "markdown",
   "metadata": {},
   "source": [
    "## Nalaganje podatkov"
   ]
  },
  {
   "cell_type": "markdown",
   "metadata": {},
   "source": [
    "### Cena Bitcoinov"
   ]
  },
  {
   "cell_type": "code",
   "execution_count": 2,
   "metadata": {},
   "outputs": [],
   "source": [
    "# Funkcije za parsanje podatkov\n",
    "\n",
    "def parse_prices_file(file):\n",
    "    prices = []\n",
    "    \n",
    "    first_line = True\n",
    "    for line in file:\n",
    "        if (first_line):\n",
    "            first_line = False\n",
    "            continue\n",
    "        \n",
    "        line_split = line.split(\";\")\n",
    "\n",
    "        price = float(line_split[2])\n",
    "        \n",
    "        prices.append(price)\n",
    "    \n",
    "    return prices"
   ]
  },
  {
   "cell_type": "code",
   "execution_count": 3,
   "metadata": {},
   "outputs": [],
   "source": [
    "# Naloži podatke\n",
    "\n",
    "bitstamp_prices_file = open(\"../data/price/bitstamp_bitcoin.txt\")\n",
    "\n",
    "bitstamp_prices = parse_prices_file(bitstamp_prices_file)"
   ]
  },
  {
   "cell_type": "code",
   "execution_count": 4,
   "metadata": {},
   "outputs": [
    {
     "name": "stdout",
     "output_type": "stream",
     "text": [
      "Correct price predictions (for Bitstamp):\n",
      "[1, -1, -1, -1, 1, -1, -1, 1, 1]\n"
     ]
    }
   ],
   "source": [
    "# Izračuna gibanje cene\n",
    "\n",
    "bitstamp_price_correctPredictions = []\n",
    "\n",
    "for i in range(len(bitstamp_prices) -1):\n",
    "    price = bitstamp_prices[i]\n",
    "    nextPrice = bitstamp_prices[i +1]\n",
    "    \n",
    "    if nextPrice > price:\n",
    "        correct_prediction = 1\n",
    "    if nextPrice == price:\n",
    "        correct_prediction = 0\n",
    "    if nextPrice < price:\n",
    "        correct_prediction = -1\n",
    "        \n",
    "    bitstamp_price_correctPredictions.append(correct_prediction)\n",
    "        \n",
    "    \n",
    "print(\"Correct price predictions (for Bitstamp):\")\n",
    "print(bitstamp_price_correctPredictions)"
   ]
  },
  {
   "cell_type": "markdown",
   "metadata": {},
   "source": [
    "### Reddit"
   ]
  },
  {
   "cell_type": "code",
   "execution_count": 5,
   "metadata": {},
   "outputs": [],
   "source": [
    "# Funkcije za parsanje podatkov\n",
    "\n",
    "def parse_submission_file(file):\n",
    "    comments = []\n",
    "    for line_num, line in enumerate(file):\n",
    "        if line_num == 0:\n",
    "            file_creationTime = int(line[17:])\n",
    "            continue\n",
    "        if line_num == 1:\n",
    "            subreddit = line[11:]\n",
    "            continue\n",
    "        if line_num == 2:\n",
    "            submission_title = line[18:]\n",
    "            continue\n",
    "        if line_num == 3:\n",
    "            submission_creationTime = int(line[24:])\n",
    "            continue\n",
    "        if line_num == 4:\n",
    "            submission_score = int(line[18:])\n",
    "            continue\n",
    "        if line_num == 5:\n",
    "            continue\n",
    "        if line_num == 6:\n",
    "            continue\n",
    "        comments.append(pase_comment_line(line))\n",
    "    return (file_creationTime, \n",
    "            subreddit, \n",
    "            submission_title, \n",
    "            submission_creationTime,\n",
    "            submission_score,\n",
    "            comments)\n",
    "\n",
    "def pase_comment_line(line):\n",
    "    line_split = line.split(\"\\t\")\n",
    "    level = int(line_split[0])\n",
    "    creationTime = int(line_split[1])\n",
    "    score = int(line_split[2])\n",
    "    content = line_split[3]\n",
    "    \n",
    "    return (level,\n",
    "            creationTime,\n",
    "            score,\n",
    "            content)"
   ]
  },
  {
   "cell_type": "code",
   "execution_count": 6,
   "metadata": {},
   "outputs": [],
   "source": [
    "# Naloži vse potrebne podatke\n",
    "\n",
    "def get_dd_dates(file_names):\n",
    "    r = []\n",
    "    for file_name in file_names:\n",
    "        split = file_name.split(\"/\")\n",
    "        date = split[-1].replace(\".txt\", \"\")\n",
    "        r.append(date)\n",
    "    return r\n",
    "\n",
    "def load_daily_discussion(file_names):\n",
    "    r = []\n",
    "    for file_name in file_names:\n",
    "        file = open(file_name)\n",
    "        r.append(parse_submission_file(file))\n",
    "    return r\n",
    "\n",
    "\n",
    "\n",
    "# naloži DailyDiscussion-Bitcoin\n",
    "bitcoinDD_filenames = sorted(glob.glob(\"../data/reddit/daily_discussion_bitcoin/*.txt\"))\n",
    "\n",
    "bitcoinDD_submissions = load_daily_discussion(bitcoinDD_filenames)\n",
    "\n",
    "# naloži DailyDiscussion-Cryptocurrency\n",
    "cryptocurrencyDD_filenames = sorted(glob.glob(\"../data/reddit/daily_discussion_cryptocurrency/*.txt\"))\n",
    "\n",
    "cryptocurrencyDD_submissions = load_daily_discussion(cryptocurrencyDD_filenames)\n",
    "\n",
    "# prodobi datume za katere obstajajo podatki\n",
    "dd_dates = get_dd_dates(bitcoinDD_filenames)"
   ]
  },
  {
   "cell_type": "markdown",
   "metadata": {},
   "source": [
    "## Izračun"
   ]
  },
  {
   "cell_type": "code",
   "execution_count": 7,
   "metadata": {},
   "outputs": [],
   "source": [
    "# Pomožne funkcije\n",
    "\n",
    "def totalNumOfCommentsForSubmission(submission):\n",
    "    comments = submission[5]\n",
    "    return len(comments)\n",
    "\n",
    "def commentScoreForSubmission(submission):\n",
    "    comments = submission[5]\n",
    "    r = 0\n",
    "    for comment in comments:\n",
    "        r += comment[2]\n",
    "    return r\n",
    "\n",
    "def weightedCommentScoreForSubmission(submission):\n",
    "    comments = submission[5]\n",
    "    r = 0\n",
    "    for comment in comments:\n",
    "        comment_level = comment[0]\n",
    "        comment_score = comment[2]\n",
    "        \n",
    "        # (1 - (level * 0.1)) * score\n",
    "        weighted_score = (1 - (comment_level * 0.1)) * comment_score\n",
    "        r += weighted_score\n",
    "    return r\n"
   ]
  },
  {
   "cell_type": "markdown",
   "metadata": {},
   "source": [
    "### Bitcoin"
   ]
  },
  {
   "cell_type": "code",
   "execution_count": 8,
   "metadata": {},
   "outputs": [
    {
     "name": "stdout",
     "output_type": "stream",
     "text": [
      "Bitcoin total number of comments:\n",
      "[173, 163, 306, 243, 390, 210, 107, 419, 195, 147] \n",
      "\n",
      "Bitcoin comment score:\n",
      "[237, 218, 505, 371, 627, 229, 150, 621, 313, 229] \n",
      "\n",
      "Bitcoin weighted comment score:\n",
      "[203.8000000000001, 189.00000000000014, 439.8999999999993, 313.80000000000024, 490.49999999999955, 189.70000000000022, 133.90000000000006, 516.299999999999, 258.8000000000002, 205.50000000000017] \n",
      "\n"
     ]
    }
   ],
   "source": [
    "# Število vseh komentarjev\n",
    "bitcoinDD_totalNumOfComments = []\n",
    "\n",
    "for submission in bitcoinDD_submissions:\n",
    "    bitcoinDD_totalNumOfComments.append(totalNumOfCommentsForSubmission(submission))\n",
    "    \n",
    "print(\"Bitcoin total number of comments:\")\n",
    "print(bitcoinDD_totalNumOfComments, \"\\n\")\n",
    "\n",
    "# Score komentarjev\n",
    "bitcoinDD_commentScore = []\n",
    "\n",
    "for submission in bitcoinDD_submissions:\n",
    "    bitcoinDD_commentScore.append(commentScoreForSubmission(submission))\n",
    "    \n",
    "print(\"Bitcoin comment score:\")\n",
    "print(bitcoinDD_commentScore, \"\\n\")\n",
    "\n",
    "# Weighted Score Komentarjev\n",
    "bitcoinDD_weightedCommentScore = []\n",
    "\n",
    "for submission in bitcoinDD_submissions:\n",
    "    bitcoinDD_weightedCommentScore.append(weightedCommentScoreForSubmission(submission))\n",
    "\n",
    "print(\"Bitcoin weighted comment score:\")\n",
    "print(bitcoinDD_weightedCommentScore, \"\\n\")"
   ]
  },
  {
   "cell_type": "markdown",
   "metadata": {},
   "source": [
    "### CryptoCurrency"
   ]
  },
  {
   "cell_type": "code",
   "execution_count": 9,
   "metadata": {},
   "outputs": [
    {
     "name": "stdout",
     "output_type": "stream",
     "text": [
      "CryptoCurrency total number of comments:\n",
      "[467, 498, 493, 479, 499, 456, 302, 475, 474, 464] \n",
      "\n",
      "CryptoCurrency comment score:\n",
      "[2654, 2833, 2339, 2448, 2576, 1512, 972, 2369, 2062, 1920] \n",
      "\n",
      "CryptoCurrency weighted comment score:\n",
      "[2430.4000000000037, 2632.1000000000017, 2192.399999999999, 2272.6000000000017, 2373.5000000000005, 1369.400000000001, 870.8999999999991, 2202.7000000000035, 1899.000000000001, 1729.1999999999975] \n",
      "\n"
     ]
    }
   ],
   "source": [
    "# Število vseh komentarjev\n",
    "cryptocurrencyDD_totalNumOfComments = []\n",
    "\n",
    "for submission in cryptocurrencyDD_submissions:\n",
    "    cryptocurrencyDD_totalNumOfComments.append(totalNumOfCommentsForSubmission(submission))\n",
    "\n",
    "print(\"CryptoCurrency total number of comments:\")\n",
    "print(cryptocurrencyDD_totalNumOfComments, \"\\n\")\n",
    "\n",
    "# Score komentarjev\n",
    "cryptocurrencyDD_commentScore = []\n",
    "\n",
    "for submission in cryptocurrencyDD_submissions:\n",
    "    cryptocurrencyDD_commentScore.append(commentScoreForSubmission(submission))\n",
    "    \n",
    "print(\"CryptoCurrency comment score:\")\n",
    "print(cryptocurrencyDD_commentScore, \"\\n\")\n",
    "\n",
    "# Weighted Score Komentarjev\n",
    "cryptocurrencyDD_weightedCommentScore = []\n",
    "\n",
    "for submission in cryptocurrencyDD_submissions:\n",
    "    cryptocurrencyDD_weightedCommentScore.append(weightedCommentScoreForSubmission(submission))\n",
    "\n",
    "print(\"CryptoCurrency weighted comment score:\")\n",
    "print(cryptocurrencyDD_weightedCommentScore, \"\\n\")"
   ]
  },
  {
   "cell_type": "markdown",
   "metadata": {},
   "source": [
    "### Skupaj"
   ]
  },
  {
   "cell_type": "code",
   "execution_count": 10,
   "metadata": {},
   "outputs": [
    {
     "name": "stdout",
     "output_type": "stream",
     "text": [
      "Combined total number of comments:\n",
      "[640, 661, 799, 722, 889, 666, 409, 894, 669, 611] \n",
      "\n",
      "Combined comment score:\n",
      "[2891, 3051, 2844, 2819, 3203, 1741, 1122, 2990, 2375, 2149] \n",
      "\n",
      "Combined weighted comment score:\n",
      "[2634.200000000004, 2821.1000000000017, 2632.2999999999984, 2586.400000000002, 2864.0, 1559.1000000000013, 1004.7999999999992, 2719.0000000000027, 2157.800000000001, 1934.6999999999978] \n",
      "\n"
     ]
    }
   ],
   "source": [
    "# Šrevilo vseh komenrarjev\n",
    "dd_totalNumOfComments = [0 for day in dd_dates]\n",
    "\n",
    "for i, num in enumerate(bitcoinDD_totalNumOfComments):\n",
    "    dd_totalNumOfComments[i] += num\n",
    "for i, num in enumerate(cryptocurrencyDD_totalNumOfComments):\n",
    "    dd_totalNumOfComments[i] += num\n",
    "\n",
    "print(\"Combined total number of comments:\")\n",
    "print(dd_totalNumOfComments, \"\\n\")\n",
    "\n",
    "# Score komentarjev\n",
    "dd_commentScore = [0 for day in dd_dates]\n",
    "\n",
    "for i, num in enumerate(bitcoinDD_commentScore):\n",
    "    dd_commentScore[i] += num\n",
    "for i, num in enumerate(cryptocurrencyDD_commentScore):\n",
    "    dd_commentScore[i] += num\n",
    "\n",
    "\n",
    "print(\"Combined comment score:\")\n",
    "print(dd_commentScore, \"\\n\")\n",
    "\n",
    "# Weighted Score Komentarjev\n",
    "dd_weightedCommentScore = [0 for day in dd_dates]\n",
    "\n",
    "for i, num in enumerate(bitcoinDD_weightedCommentScore):\n",
    "    dd_weightedCommentScore[i] += num\n",
    "for i, num in enumerate(cryptocurrencyDD_weightedCommentScore):\n",
    "    dd_weightedCommentScore[i] += num\n",
    "    \n",
    "print(\"Combined weighted comment score:\")\n",
    "print(dd_weightedCommentScore, \"\\n\")\n"
   ]
  },
  {
   "cell_type": "markdown",
   "metadata": {},
   "source": [
    "## Ocenjevanje: glede na povprečje"
   ]
  },
  {
   "cell_type": "code",
   "execution_count": 12,
   "metadata": {},
   "outputs": [],
   "source": [
    "# _predictions = price:\n",
    "#    * Increase -> 1\n",
    "#    * Same -> 0\n",
    "#    * Decrease -> -1"
   ]
  },
  {
   "cell_type": "markdown",
   "metadata": {},
   "source": [
    "### Skupno število komenrarjev"
   ]
  },
  {
   "cell_type": "code",
   "execution_count": 13,
   "metadata": {},
   "outputs": [
    {
     "name": "stdout",
     "output_type": "stream",
     "text": [
      "Mean total number of comments:\n",
      "696.0\n"
     ]
    }
   ],
   "source": [
    "totalNumOfComments_data = dd_totalNumOfComments\n",
    "\n",
    "dd_totalNumOfComments_mean = np.mean(totalNumOfComments_data)\n",
    "\n",
    "print(\"Mean total number of comments:\")\n",
    "print(dd_totalNumOfComments_mean)"
   ]
  },
  {
   "cell_type": "code",
   "execution_count": 14,
   "metadata": {},
   "outputs": [
    {
     "name": "stdout",
     "output_type": "stream",
     "text": [
      "Predictions:\n",
      "[-1, -1, 1, 1, 1, -1, -1, 1, -1]\n"
     ]
    }
   ],
   "source": [
    "# Makes predictions\n",
    "\n",
    "dd_totalNumOfComments_mean_predictions = []\n",
    "\n",
    "for numOfComments in dd_totalNumOfComments:\n",
    "    if numOfComments > dd_totalNumOfComments_mean:\n",
    "        prediction = 1\n",
    "    if numOfComments == dd_totalNumOfComments_mean:\n",
    "        prediction = 0\n",
    "    if numOfComments < dd_totalNumOfComments_mean:\n",
    "        prediction = -1\n",
    "    \n",
    "    dd_totalNumOfComments_mean_predictions.append(prediction)\n",
    "    \n",
    "# removes last prediction becouse there is no correct-prediction data for it\n",
    "dd_totalNumOfComments_mean_predictions = dd_totalNumOfComments_mean_predictions[:-1]\n",
    "\n",
    "print(\"Predictions:\")\n",
    "print(dd_totalNumOfComments_mean_predictions)"
   ]
  },
  {
   "cell_type": "code",
   "execution_count": 15,
   "metadata": {},
   "outputs": [
    {
     "name": "stdout",
     "output_type": "stream",
     "text": [
      "Price      Actual Predicted wasCorrect\n",
      "---------------------------------------\n",
      "2018-04-03      1        -1      False\n",
      "2018-04-04     -1        -1       True\n",
      "2018-04-05     -1         1      False\n",
      "2018-04-06     -1         1      False\n",
      "2018-04-07      1         1       True\n",
      "2018-04-08     -1        -1       True\n",
      "2018-04-09     -1        -1       True\n",
      "2018-04-10      1         1       True\n",
      "2018-04-11      1        -1      False\n",
      "\n",
      "5/9\n"
     ]
    }
   ],
   "source": [
    "# Evaluates the result\n",
    "\n",
    "numOfCorrect = 0\n",
    "numOfIncorrect = 0\n",
    "\n",
    "print(\"Price     \", \"Actual\", \"Predicted\", \"wasCorrect\")\n",
    "print(\"---------------------------------------\")\n",
    "for i in range(len(dd_totalNumOfComments_mean_predictions)):\n",
    "    date = dd_dates[i +1] # there is no price prediction for first date\n",
    "    prediction = dd_totalNumOfComments_mean_predictions[i]\n",
    "    correct_prediction = bitstamp_price_correctPredictions[i]\n",
    "    \n",
    "    wasCorrect = prediction == correct_prediction\n",
    "    if wasCorrect:\n",
    "        numOfCorrect += 1\n",
    "    else:\n",
    "        numOfIncorrect += 1\n",
    "    \n",
    "    print(date, str(correct_prediction).rjust(6), str(prediction).rjust(9), str(wasCorrect).rjust(10))\n",
    "\n",
    "print()\n",
    "print(str(numOfCorrect) + \"/\" + str(numOfCorrect + numOfIncorrect))"
   ]
  },
  {
   "cell_type": "markdown",
   "metadata": {},
   "source": [
    "### Skupen score komentarjev"
   ]
  },
  {
   "cell_type": "code",
   "execution_count": 16,
   "metadata": {},
   "outputs": [
    {
     "name": "stdout",
     "output_type": "stream",
     "text": [
      "Mean comments score:\n",
      "2518.5\n"
     ]
    }
   ],
   "source": [
    "commentsScore_data = dd_commentScore\n",
    "\n",
    "dd_commentsScore_mean = np.mean(commentsScore_data)\n",
    "\n",
    "print(\"Mean comments score:\")\n",
    "print(dd_commentsScore_mean)"
   ]
  },
  {
   "cell_type": "code",
   "execution_count": 17,
   "metadata": {},
   "outputs": [
    {
     "name": "stdout",
     "output_type": "stream",
     "text": [
      "Predictions:\n",
      "[1, 1, 1, 1, 1, -1, -1, 1, -1]\n"
     ]
    }
   ],
   "source": [
    "# Makes predictions\n",
    "\n",
    "dd_commentsScore_mean_predictions = []\n",
    "\n",
    "for commentsScore in dd_commentScore:\n",
    "    if commentsScore > dd_commentsScore_mean:\n",
    "        prediction = 1\n",
    "    if commentsScore == dd_commentsScore_mean:\n",
    "        prediction = 0\n",
    "    if commentsScore < dd_commentsScore_mean:\n",
    "        prediction = -1\n",
    "    \n",
    "    dd_commentsScore_mean_predictions.append(prediction)\n",
    "    \n",
    "# removes last prediction becouse there is no correct-prediction data for it\n",
    "dd_commentsScore_mean_predictions = dd_commentsScore_mean_predictions[:-1]\n",
    "\n",
    "print(\"Predictions:\")\n",
    "print(dd_commentsScore_mean_predictions)"
   ]
  },
  {
   "cell_type": "code",
   "execution_count": 18,
   "metadata": {},
   "outputs": [
    {
     "name": "stdout",
     "output_type": "stream",
     "text": [
      "Price      Actual Predicted wasCorrect\n",
      "---------------------------------------\n",
      "2018-04-03      1         1       True\n",
      "2018-04-04     -1         1      False\n",
      "2018-04-05     -1         1      False\n",
      "2018-04-06     -1         1      False\n",
      "2018-04-07      1         1       True\n",
      "2018-04-08     -1        -1       True\n",
      "2018-04-09     -1        -1       True\n",
      "2018-04-10      1         1       True\n",
      "2018-04-11      1        -1      False\n",
      "\n",
      "5/9\n"
     ]
    }
   ],
   "source": [
    "# Evaluates the result\n",
    "\n",
    "numOfCorrect = 0\n",
    "numOfIncorrect = 0\n",
    "\n",
    "print(\"Price     \", \"Actual\", \"Predicted\", \"wasCorrect\")\n",
    "print(\"---------------------------------------\")\n",
    "for i in range(len(dd_commentsScore_mean_predictions)):\n",
    "    date = dd_dates[i +1] # there is no price prediction for first date\n",
    "    prediction = dd_commentsScore_mean_predictions[i]\n",
    "    correct_prediction = bitstamp_price_correctPredictions[i]\n",
    "    \n",
    "    wasCorrect = prediction == correct_prediction\n",
    "    if wasCorrect:\n",
    "        numOfCorrect += 1\n",
    "    else:\n",
    "        numOfIncorrect += 1\n",
    "    \n",
    "    print(date, str(correct_prediction).rjust(6), str(prediction).rjust(9), str(wasCorrect).rjust(10))\n",
    "\n",
    "print()\n",
    "print(str(numOfCorrect) + \"/\" + str(numOfCorrect + numOfIncorrect))"
   ]
  },
  {
   "cell_type": "markdown",
   "metadata": {},
   "source": [
    "### Skupen utežen score komentarjev"
   ]
  },
  {
   "cell_type": "code",
   "execution_count": 19,
   "metadata": {},
   "outputs": [
    {
     "name": "stdout",
     "output_type": "stream",
     "text": [
      "Mean weighted comments score:\n",
      "2291.34\n"
     ]
    }
   ],
   "source": [
    "weightedCommentsScore_data = dd_weightedCommentScore\n",
    "\n",
    "dd_weightedCommentsScore_mean = np.mean(weightedCommentsScore_data)\n",
    "\n",
    "print(\"Mean weighted comments score:\")\n",
    "print(dd_weightedCommentsScore_mean)"
   ]
  },
  {
   "cell_type": "code",
   "execution_count": 20,
   "metadata": {},
   "outputs": [
    {
     "name": "stdout",
     "output_type": "stream",
     "text": [
      "Predictions:\n",
      "[1, 1, 1, 1, 1, -1, -1, 1, -1]\n"
     ]
    }
   ],
   "source": [
    "# Makes predictions\n",
    "\n",
    "dd_weightedCommentsScore_mean_predictions = []\n",
    "\n",
    "for weightedCommentsScore in dd_weightedCommentScore:\n",
    "    if weightedCommentsScore > dd_weightedCommentsScore_mean:\n",
    "        prediction = 1\n",
    "    if weightedCommentsScore == dd_weightedCommentsScore_mean:\n",
    "        prediction = 0\n",
    "    if weightedCommentsScore < dd_weightedCommentsScore_mean:\n",
    "        prediction = -1\n",
    "    \n",
    "    dd_weightedCommentsScore_mean_predictions.append(prediction)\n",
    "    \n",
    "# removes last prediction becouse there is no correct-prediction data for it\n",
    "dd_weightedCommentsScore_mean_predictions = dd_weightedCommentsScore_mean_predictions[:-1]\n",
    "\n",
    "print(\"Predictions:\")\n",
    "print(dd_weightedCommentsScore_mean_predictions)"
   ]
  },
  {
   "cell_type": "code",
   "execution_count": 21,
   "metadata": {},
   "outputs": [
    {
     "name": "stdout",
     "output_type": "stream",
     "text": [
      "Price      Actual Predicted wasCorrect\n",
      "---------------------------------------\n",
      "2018-04-03      1         1       True\n",
      "2018-04-04     -1         1      False\n",
      "2018-04-05     -1         1      False\n",
      "2018-04-06     -1         1      False\n",
      "2018-04-07      1         1       True\n",
      "2018-04-08     -1        -1       True\n",
      "2018-04-09     -1        -1       True\n",
      "2018-04-10      1         1       True\n",
      "2018-04-11      1        -1      False\n",
      "\n",
      "5/9\n"
     ]
    }
   ],
   "source": [
    "# Evaluates the result\n",
    "\n",
    "numOfCorrect = 0\n",
    "numOfIncorrect = 0\n",
    "\n",
    "print(\"Price     \", \"Actual\", \"Predicted\", \"wasCorrect\")\n",
    "print(\"---------------------------------------\")\n",
    "for i in range(len(dd_weightedCommentsScore_mean_predictions)):\n",
    "    date = dd_dates[i +1] # there is no price prediction for first date\n",
    "    prediction = dd_weightedCommentsScore_mean_predictions[i]\n",
    "    correct_prediction = bitstamp_price_correctPredictions[i]\n",
    "    \n",
    "    wasCorrect = prediction == correct_prediction\n",
    "    if wasCorrect:\n",
    "        numOfCorrect += 1\n",
    "    else:\n",
    "        numOfIncorrect += 1\n",
    "    \n",
    "    print(date, str(correct_prediction).rjust(6), str(prediction).rjust(9), str(wasCorrect).rjust(10))\n",
    "\n",
    "print()\n",
    "print(str(numOfCorrect) + \"/\" + str(numOfCorrect + numOfIncorrect))"
   ]
  },
  {
   "cell_type": "markdown",
   "metadata": {},
   "source": [
    "## Ocenjevanje: glede na prejšnji dan"
   ]
  },
  {
   "cell_type": "code",
   "execution_count": 22,
   "metadata": {},
   "outputs": [
    {
     "name": "stdout",
     "output_type": "stream",
     "text": [
      "[-1, -1, -1, 1, -1, -1, 1, 1]\n"
     ]
    }
   ],
   "source": [
    "bitstamp_price_yesterdayCorrectPredictions = bitstamp_price_correctPredictions[1:]\n",
    "\n",
    "print(bitstamp_price_yesterdayCorrectPredictions)"
   ]
  },
  {
   "cell_type": "markdown",
   "metadata": {},
   "source": [
    "### Skupno število komenrarjev"
   ]
  },
  {
   "cell_type": "code",
   "execution_count": 23,
   "metadata": {},
   "outputs": [
    {
     "name": "stdout",
     "output_type": "stream",
     "text": [
      "Predictions:\n",
      "[1, 1, -1, 1, -1, -1, 1, -1]\n"
     ]
    }
   ],
   "source": [
    "# Makes predictions\n",
    "\n",
    "dd_totalNumOfComments_yesterday_predictions = []\n",
    "\n",
    "yesterday_numOfComments = -1\n",
    "for numOfComments in dd_totalNumOfComments:\n",
    "    if yesterday_numOfComments == -1:\n",
    "        yesterday_numOfComments = numOfComments\n",
    "        continue\n",
    "    \n",
    "    if numOfComments > yesterday_numOfComments:\n",
    "        prediction = 1\n",
    "    if numOfComments == yesterday_numOfComments:\n",
    "        prediction = 0\n",
    "    if numOfComments < yesterday_numOfComments:\n",
    "        prediction = -1\n",
    "        \n",
    "    yesterday_numOfComments = numOfComments\n",
    "    \n",
    "    dd_totalNumOfComments_yesterday_predictions.append(prediction)\n",
    "    \n",
    "    \n",
    "# removes first prediction becouse there is no correct-prediction data for it\n",
    "dd_totalNumOfComments_yesterday_predictions = dd_totalNumOfComments_yesterday_predictions[:-1]\n",
    "\n",
    "print(\"Predictions:\")\n",
    "print(dd_totalNumOfComments_yesterday_predictions)"
   ]
  },
  {
   "cell_type": "code",
   "execution_count": 24,
   "metadata": {},
   "outputs": [
    {
     "name": "stdout",
     "output_type": "stream",
     "text": [
      "Price      Actual Predicted wasCorrect\n",
      "---------------------------------------\n",
      "2018-04-03     -1         1      False\n",
      "2018-04-04     -1         1      False\n",
      "2018-04-05     -1        -1       True\n",
      "2018-04-06      1         1       True\n",
      "2018-04-07     -1        -1       True\n",
      "2018-04-08     -1        -1       True\n",
      "2018-04-09      1         1       True\n",
      "2018-04-10      1        -1      False\n",
      "\n",
      "5/8\n"
     ]
    }
   ],
   "source": [
    "# Evaluates the result\n",
    "\n",
    "numOfCorrect = 0\n",
    "numOfIncorrect = 0\n",
    "\n",
    "print(\"Price     \", \"Actual\", \"Predicted\", \"wasCorrect\")\n",
    "print(\"---------------------------------------\")\n",
    "for i in range(len(dd_totalNumOfComments_yesterday_predictions)):\n",
    "    date = dd_dates[i +1] # there is no price prediction for first date\n",
    "    prediction = dd_totalNumOfComments_yesterday_predictions[i]\n",
    "    correct_prediction = bitstamp_price_yesterdayCorrectPredictions[i]\n",
    "    \n",
    "    wasCorrect = prediction == correct_prediction\n",
    "    if wasCorrect:\n",
    "        numOfCorrect += 1\n",
    "    else:\n",
    "        numOfIncorrect += 1\n",
    "    \n",
    "    print(date, str(correct_prediction).rjust(6), str(prediction).rjust(9), str(wasCorrect).rjust(10))\n",
    "\n",
    "print()\n",
    "print(str(numOfCorrect) + \"/\" + str(numOfCorrect + numOfIncorrect))"
   ]
  },
  {
   "cell_type": "markdown",
   "metadata": {},
   "source": [
    "### Skupen score komentarjev"
   ]
  },
  {
   "cell_type": "code",
   "execution_count": 25,
   "metadata": {},
   "outputs": [
    {
     "name": "stdout",
     "output_type": "stream",
     "text": [
      "Predictions:\n",
      "[1, -1, -1, 1, -1, -1, 1, -1]\n"
     ]
    }
   ],
   "source": [
    "# Makes predictions\n",
    "\n",
    "dd_commentsScore_yesterday_predictions = []\n",
    "\n",
    "yesterday_commentsScore = -1\n",
    "for commentsScore in dd_commentScore:\n",
    "    if yesterday_commentsScore == -1:\n",
    "        yesterday_commentsScore = commentsScore\n",
    "        continue\n",
    "    \n",
    "    if commentsScore > yesterday_commentsScore:\n",
    "        prediction = 1\n",
    "    if commentsScore == yesterday_commentsScore:\n",
    "        prediction = 0\n",
    "    if commentsScore < yesterday_commentsScore:\n",
    "        prediction = -1\n",
    "        \n",
    "    yesterday_commentsScore = commentsScore\n",
    "    \n",
    "    dd_commentsScore_yesterday_predictions.append(prediction)\n",
    "    \n",
    "    \n",
    "# removes first prediction becouse there is no correct-prediction data for it\n",
    "dd_commentsScore_yesterday_predictions = dd_commentsScore_yesterday_predictions[:-1]\n",
    "\n",
    "print(\"Predictions:\")\n",
    "print(dd_commentsScore_yesterday_predictions)"
   ]
  },
  {
   "cell_type": "code",
   "execution_count": 26,
   "metadata": {},
   "outputs": [
    {
     "name": "stdout",
     "output_type": "stream",
     "text": [
      "Price      Actual Predicted wasCorrect\n",
      "---------------------------------------\n",
      "2018-04-03     -1         1      False\n",
      "2018-04-04     -1        -1       True\n",
      "2018-04-05     -1        -1       True\n",
      "2018-04-06      1         1       True\n",
      "2018-04-07     -1        -1       True\n",
      "2018-04-08     -1        -1       True\n",
      "2018-04-09      1         1       True\n",
      "2018-04-10      1        -1      False\n",
      "\n",
      "6/8\n"
     ]
    }
   ],
   "source": [
    "# Evaluates the result\n",
    "\n",
    "numOfCorrect = 0\n",
    "numOfIncorrect = 0\n",
    "\n",
    "print(\"Price     \", \"Actual\", \"Predicted\", \"wasCorrect\")\n",
    "print(\"---------------------------------------\")\n",
    "for i in range(len(dd_commentsScore_yesterday_predictions)):\n",
    "    date = dd_dates[i +1] # there is no price prediction for first date\n",
    "    prediction = dd_commentsScore_yesterday_predictions[i]\n",
    "    correct_prediction = bitstamp_price_yesterdayCorrectPredictions[i]\n",
    "    \n",
    "    wasCorrect = prediction == correct_prediction\n",
    "    if wasCorrect:\n",
    "        numOfCorrect += 1\n",
    "    else:\n",
    "        numOfIncorrect += 1\n",
    "    \n",
    "    print(date, str(correct_prediction).rjust(6), str(prediction).rjust(9), str(wasCorrect).rjust(10))\n",
    "\n",
    "print()\n",
    "print(str(numOfCorrect) + \"/\" + str(numOfCorrect + numOfIncorrect))"
   ]
  },
  {
   "cell_type": "markdown",
   "metadata": {},
   "source": [
    "### Skupen utežen score komentarjev"
   ]
  },
  {
   "cell_type": "code",
   "execution_count": 27,
   "metadata": {},
   "outputs": [
    {
     "name": "stdout",
     "output_type": "stream",
     "text": [
      "Predictions:\n",
      "[1, -1, -1, 1, -1, -1, 1, -1]\n"
     ]
    }
   ],
   "source": [
    "# Makes predictions\n",
    "\n",
    "dd_weightedCommentsScore_yesterday_predictions = []\n",
    "\n",
    "yesterday_commentsScore = -1\n",
    "for commentsScore in dd_weightedCommentScore:\n",
    "    if yesterday_commentsScore == -1:\n",
    "        yesterday_commentsScore = commentsScore\n",
    "        continue\n",
    "    \n",
    "    if commentsScore > yesterday_commentsScore:\n",
    "        prediction = 1\n",
    "    if commentsScore == yesterday_commentsScore:\n",
    "        prediction = 0\n",
    "    if commentsScore < yesterday_commentsScore:\n",
    "        prediction = -1\n",
    "        \n",
    "    yesterday_commentsScore = commentsScore\n",
    "    \n",
    "    dd_weightedCommentsScore_yesterday_predictions.append(prediction)\n",
    "    \n",
    "    \n",
    "# removes first prediction becouse there is no correct-prediction data for it\n",
    "dd_weightedCommentsScore_yesterday_predictions = dd_weightedCommentsScore_yesterday_predictions[:-1]\n",
    "\n",
    "print(\"Predictions:\")\n",
    "print(dd_weightedCommentsScore_yesterday_predictions)"
   ]
  },
  {
   "cell_type": "code",
   "execution_count": 28,
   "metadata": {},
   "outputs": [
    {
     "name": "stdout",
     "output_type": "stream",
     "text": [
      "Price      Actual Predicted wasCorrect\n",
      "---------------------------------------\n",
      "2018-04-03     -1         1      False\n",
      "2018-04-04     -1        -1       True\n",
      "2018-04-05     -1        -1       True\n",
      "2018-04-06      1         1       True\n",
      "2018-04-07     -1        -1       True\n",
      "2018-04-08     -1        -1       True\n",
      "2018-04-09      1         1       True\n",
      "2018-04-10      1        -1      False\n",
      "\n",
      "6/8\n"
     ]
    }
   ],
   "source": [
    "# Evaluates the result\n",
    "\n",
    "numOfCorrect = 0\n",
    "numOfIncorrect = 0\n",
    "\n",
    "print(\"Price     \", \"Actual\", \"Predicted\", \"wasCorrect\")\n",
    "print(\"---------------------------------------\")\n",
    "for i in range(len(dd_weightedCommentsScore_yesterday_predictions)):\n",
    "    date = dd_dates[i +1] # there is no price prediction for first date\n",
    "    prediction = dd_weightedCommentsScore_yesterday_predictions[i]\n",
    "    correct_prediction = bitstamp_price_yesterdayCorrectPredictions[i]\n",
    "    \n",
    "    wasCorrect = prediction == correct_prediction\n",
    "    if wasCorrect:\n",
    "        numOfCorrect += 1\n",
    "    else:\n",
    "        numOfIncorrect += 1\n",
    "    \n",
    "    print(date, str(correct_prediction).rjust(6), str(prediction).rjust(9), str(wasCorrect).rjust(10))\n",
    "\n",
    "print()\n",
    "print(str(numOfCorrect) + \"/\" + str(numOfCorrect + numOfIncorrect))"
   ]
  },
  {
   "cell_type": "code",
   "execution_count": null,
   "metadata": {},
   "outputs": [],
   "source": []
  }
 ],
 "metadata": {
  "kernelspec": {
   "display_name": "Python 3",
   "language": "python",
   "name": "python3"
  },
  "language_info": {
   "codemirror_mode": {
    "name": "ipython",
    "version": 3
   },
   "file_extension": ".py",
   "mimetype": "text/x-python",
   "name": "python",
   "nbconvert_exporter": "python",
   "pygments_lexer": "ipython3",
   "version": "3.5.2"
  }
 },
 "nbformat": 4,
 "nbformat_minor": 2
}
