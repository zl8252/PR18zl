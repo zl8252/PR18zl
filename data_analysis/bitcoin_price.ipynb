{
 "cells": [
  {
   "cell_type": "markdown",
   "metadata": {},
   "source": [
    "# Cena Bitcoina"
   ]
  },
  {
   "cell_type": "code",
   "execution_count": 18,
   "metadata": {},
   "outputs": [],
   "source": [
    "%matplotlib inline\n",
    "import matplotlib\n",
    "import matplotlib.patches as mpatches\n",
    "import matplotlib.pyplot as plt\n",
    "\n",
    "import numpy as np"
   ]
  },
  {
   "cell_type": "markdown",
   "metadata": {},
   "source": [
    "### Naloži podatke"
   ]
  },
  {
   "cell_type": "code",
   "execution_count": 2,
   "metadata": {},
   "outputs": [],
   "source": [
    "bitstamp_file = open(\"../data/price/bitstamp_bitcoin.txt\")\n",
    "coinmarketcap_file = open(\"../data/price/coinmarketcap_bitcoin.txt\")\n",
    "\n",
    "def parse_file(file):\n",
    "    timestamps = []\n",
    "    prices = []\n",
    "    \n",
    "    first_line = True\n",
    "    for line in file:\n",
    "        if (first_line):\n",
    "            first_line = False\n",
    "            continue\n",
    "        \n",
    "        line_split = line.split(\";\")\n",
    "        \n",
    "        date_string = line_split[0]\n",
    "        time_string = line_split[1]\n",
    "        price = float(line_split[2])\n",
    "        \n",
    "        timestamps.append((date_string, time_string))\n",
    "        prices.append(price)\n",
    "        \n",
    "    return (timestamps, prices)\n",
    "\n",
    "bitstamp_timestamps, bitstamp_prices = parse_file(bitstamp_file)\n",
    "coinmarketcap_timestamps, coinmarketcap_prices = parse_file(coinmarketcap_file)"
   ]
  },
  {
   "cell_type": "markdown",
   "metadata": {},
   "source": [
    "### Osnovna Statistika"
   ]
  },
  {
   "cell_type": "code",
   "execution_count": 29,
   "metadata": {},
   "outputs": [
    {
     "name": "stdout",
     "output_type": "stream",
     "text": [
      "Bitstamp povprečna cena: 5628.84125\n",
      "CoinMarketCap povprečna cena:  5655.46625\n",
      "\n",
      "Bitstamp cena mediana: 5628.84125\n",
      "CoinMarketCap cena mediana: 5630.345\n",
      "\n",
      "Bitstamp najvišja cena: 6103.0\n",
      "Bitstamp najnižja cena: 5395.0\n",
      "CoinMarketCap najvišja cena: 6120.96\n",
      "CoinMarketCap najnižja cena: 5411.49\n"
     ]
    }
   ],
   "source": [
    "# Povprečje\n",
    "bitstamp_mean = np.mean(bitstamp_prices)\n",
    "coinmarketcap_mean = np.mean(coinmarketcap_prices)\n",
    "\n",
    "# Mediana\n",
    "bitstamp_median = np.median(bitstamp_prices)\n",
    "coinmarketcap_median = np.median(coinmarketcap_prices)\n",
    "\n",
    "# Max, Min\n",
    "bitstamp_max = np.max(bitstamp_prices)\n",
    "bitstamp_min = np.min(bitstamp_prices)\n",
    "coinmarketcap_max = np.max(coinmarketcap_prices)\n",
    "coinmarketcap_min = np.min(coinmarketcap_prices)\n",
    "\n",
    "print(\"Bitstamp povprečna cena:\", bitstamp_mean)\n",
    "print(\"CoinMarketCap povprečna cena: \", coinmarketcap_mean)\n",
    "print()\n",
    "print(\"Bitstamp cena mediana:\", bitstamp_mean)\n",
    "print(\"CoinMarketCap cena mediana:\", coinmarketcap_median)\n",
    "print()\n",
    "print(\"Bitstamp najvišja cena:\", bitstamp_max)\n",
    "print(\"Bitstamp najnižja cena:\", bitstamp_min)\n",
    "print(\"CoinMarketCap najvišja cena:\", coinmarketcap_max)\n",
    "print(\"CoinMarketCap najnižja cena:\", coinmarketcap_min)"
   ]
  },
  {
   "cell_type": "markdown",
   "metadata": {},
   "source": [
    "### Vizualizacija"
   ]
  },
  {
   "cell_type": "code",
   "execution_count": 15,
   "metadata": {},
   "outputs": [
    {
     "data": {
      "image/png": "[encoded data removed]",
      "text/plain": [
       "<matplotlib.figure.Figure at 0x7f7ebab80748>"
      ]
     },
     "metadata": {},
     "output_type": "display_data"
    },
    {
     "data": {
      "text/plain": [
       "<matplotlib.figure.Figure at 0x7f7ebaddd9e8>"
      ]
     },
     "metadata": {},
     "output_type": "display_data"
    }
   ],
   "source": [
    "fig, ax = plt.subplots()\n",
    "\n",
    "x_es = list(range(len(bitstamp_timestamps)))\n",
    "x_ticks = [date_time[0] for date_time in bitstamp_timestamps]\n",
    "\n",
    "# bitstamp\n",
    "bitstamp_color = \"green\"\n",
    "plt.plot(x_es, bitstamp_prices,\n",
    "         linestyle='-',marker=\"o\",\n",
    "         color=bitstamp_color)\n",
    "bitstamp_patch = mpatches.Patch(color=bitstamp_color, label='Bitstamp')\n",
    "\n",
    "# coinmarketcap\n",
    "coinmarketcap_color = \"blue\"\n",
    "plt.plot(x_es, coinmarketcap_prices,\n",
    "         linestyle='-',marker=\"o\",\n",
    "        color=coinmarketcap_color)\n",
    "coinmarketcap_patch = mpatches.Patch(color=coinmarketcap_color, label='CoinMarketCap')\n",
    "\n",
    "plt.title(\"Cena Bitcoina\")\n",
    "\n",
    "plt.legend(handles=[bitstamp_patch, coinmarketcap_patch])\n",
    "\n",
    "plt.ylabel(\"Cena €\")\n",
    "plt.xlabel(\"Datum\")\n",
    "\n",
    "plt.xticks(x_es, x_ticks)\n",
    "\n",
    "plt.show()\n",
    "plt.draw()"
   ]
  },
  {
   "cell_type": "code",
   "execution_count": 16,
   "metadata": {},
   "outputs": [],
   "source": [
    "# Shrani\n",
    "fig.savefig('../assets/cena_bitcoina.png')"
   ]
  }
 ],
 "metadata": {
  "kernelspec": {
   "display_name": "Python 3",
   "language": "python",
   "name": "python3"
  },
  "language_info": {
   "codemirror_mode": {
    "name": "ipython",
    "version": 3
   },
   "file_extension": ".py",
   "mimetype": "text/x-python",
   "name": "python",
   "nbconvert_exporter": "python",
   "pygments_lexer": "ipython3",
   "version": "3.5.2"
  }
 },
 "nbformat": 4,
 "nbformat_minor": 2
}
