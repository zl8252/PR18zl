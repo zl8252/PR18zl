{
 "cells": [
  {
   "cell_type": "markdown",
   "metadata": {},
   "source": [
    "# Analiza Podatkov: Daily Discussion -Besede"
   ]
  },
  {
   "cell_type": "code",
   "execution_count": 1,
   "metadata": {},
   "outputs": [],
   "source": [
    "%matplotlib inline\n",
    "import matplotlib\n",
    "import matplotlib.patches as mpatches\n",
    "import matplotlib.pyplot as plt\n",
    "\n",
    "import numpy as np\n",
    "\n",
    "import glob\n",
    "\n",
    "import os\n",
    "\n",
    "import re"
   ]
  },
  {
   "cell_type": "markdown",
   "metadata": {},
   "source": [
    "## Nalaganje podatkov"
   ]
  },
  {
   "cell_type": "markdown",
   "metadata": {},
   "source": [
    "### Cena Bitcoinov"
   ]
  },
  {
   "cell_type": "code",
   "execution_count": 2,
   "metadata": {},
   "outputs": [],
   "source": [
    "# Funkcije za parsanje podatkov\n",
    "\n",
    "def parse_prices_file(file):\n",
    "    prices = []\n",
    "    \n",
    "    first_line = True\n",
    "    for line in file:\n",
    "        if (first_line):\n",
    "            first_line = False\n",
    "            continue\n",
    "        \n",
    "        line_split = line.split(\";\")\n",
    "\n",
    "        price = float(line_split[2])\n",
    "        \n",
    "        prices.append(price)\n",
    "    \n",
    "    return prices"
   ]
  },
  {
   "cell_type": "code",
   "execution_count": 3,
   "metadata": {},
   "outputs": [],
   "source": [
    "# Naloži podatke\n",
    "\n",
    "bitstamp_prices_file = open(\"../data/price/bitstamp_bitcoin.txt\")\n",
    "\n",
    "bitstamp_prices = parse_prices_file(bitstamp_prices_file)"
   ]
  },
  {
   "cell_type": "code",
   "execution_count": 4,
   "metadata": {},
   "outputs": [
    {
     "name": "stdout",
     "output_type": "stream",
     "text": [
      "Correct price predictions (for Bitstamp):\n",
      "[1, -1, -1, -1, 1, -1, -1, 1, 1]\n"
     ]
    }
   ],
   "source": [
    "# Izračuna gibanje cene\n",
    "\n",
    "bitstamp_price_correctPredictions = []\n",
    "\n",
    "for i in range(len(bitstamp_prices) -1):\n",
    "    price = bitstamp_prices[i]\n",
    "    nextPrice = bitstamp_prices[i +1]\n",
    "    \n",
    "    if nextPrice > price:\n",
    "        correct_prediction = 1\n",
    "    if nextPrice == price:\n",
    "        correct_prediction = 0\n",
    "    if nextPrice < price:\n",
    "        correct_prediction = -1\n",
    "        \n",
    "    bitstamp_price_correctPredictions.append(correct_prediction)\n",
    "        \n",
    "    \n",
    "print(\"Correct price predictions (for Bitstamp):\")\n",
    "print(bitstamp_price_correctPredictions)"
   ]
  },
  {
   "cell_type": "markdown",
   "metadata": {},
   "source": [
    "### Reddit"
   ]
  },
  {
   "cell_type": "code",
   "execution_count": 5,
   "metadata": {},
   "outputs": [],
   "source": [
    "# Funkcije za parsanje podatkov\n",
    "\n",
    "def parse_submission_file(file):\n",
    "    comments = []\n",
    "    for line_num, line in enumerate(file):\n",
    "        if line_num == 0:\n",
    "            file_creationTime = int(line[17:])\n",
    "            continue\n",
    "        if line_num == 1:\n",
    "            subreddit = line[11:]\n",
    "            continue\n",
    "        if line_num == 2:\n",
    "            submission_title = line[18:]\n",
    "            continue\n",
    "        if line_num == 3:\n",
    "            submission_creationTime = int(line[24:])\n",
    "            continue\n",
    "        if line_num == 4:\n",
    "            submission_score = int(line[18:])\n",
    "            continue\n",
    "        if line_num == 5:\n",
    "            continue\n",
    "        if line_num == 6:\n",
    "            continue\n",
    "        comments.append(pase_comment_line(line))\n",
    "    return (file_creationTime, \n",
    "            subreddit, \n",
    "            submission_title, \n",
    "            submission_creationTime,\n",
    "            submission_score,\n",
    "            comments)\n",
    "\n",
    "def pase_comment_line(line):\n",
    "    line_split = line.split(\"\\t\")\n",
    "    level = int(line_split[0])\n",
    "    creationTime = int(line_split[1])\n",
    "    score = int(line_split[2])\n",
    "    content = line_split[3]\n",
    "    \n",
    "    return (level,\n",
    "            creationTime,\n",
    "            score,\n",
    "            content)"
   ]
  },
  {
   "cell_type": "code",
   "execution_count": 6,
   "metadata": {},
   "outputs": [],
   "source": [
    "# Naloži vse potrebne podatke\n",
    "\n",
    "def get_dd_dates(file_names):\n",
    "    r = []\n",
    "    for file_name in file_names:\n",
    "        split = file_name.split(\"/\")\n",
    "        date = split[-1].replace(\".txt\", \"\")\n",
    "        r.append(date)\n",
    "    return r\n",
    "\n",
    "def load_daily_discussion(file_names):\n",
    "    r = []\n",
    "    for file_name in file_names:\n",
    "        file = open(file_name)\n",
    "        r.append(parse_submission_file(file))\n",
    "    return r\n",
    "\n",
    "\n",
    "\n",
    "# naloži DailyDiscussion-Bitcoin\n",
    "bitcoinDD_filenames = sorted(glob.glob(\"../data/reddit/daily_discussion_bitcoin/*.txt\"))\n",
    "\n",
    "bitcoinDD_submissions = load_daily_discussion(bitcoinDD_filenames)\n",
    "\n",
    "# naloži DailyDiscussion-Cryptocurrency\n",
    "cryptocurrencyDD_filenames = sorted(glob.glob(\"../data/reddit/daily_discussion_cryptocurrency/*.txt\"))\n",
    "\n",
    "cryptocurrencyDD_submissions = load_daily_discussion(cryptocurrencyDD_filenames)\n",
    "\n",
    "# prodobi datume za katere obstajajo podatki\n",
    "dd_dates = get_dd_dates(bitcoinDD_filenames)"
   ]
  },
  {
   "cell_type": "markdown",
   "metadata": {},
   "source": [
    "## Izračun"
   ]
  },
  {
   "cell_type": "code",
   "execution_count": 7,
   "metadata": {},
   "outputs": [],
   "source": [
    "positive_words = [\n",
    "    \"increase\",\n",
    "    \"high\",\n",
    "    \"top\",\n",
    "    \"buy\",\n",
    "    \"invest\",\n",
    "    \"positive\",\n",
    "    \"up\",\n",
    "    \"good\",\n",
    "    \"happy\",\n",
    "    \"\\+\",\n",
    "    \"gain\"\n",
    "    \"win\",\n",
    "    \"max\",\n",
    "    \"flourish\",\n",
    "    \"rise\",\n",
    "]\n",
    "\n",
    "negative_words = [\n",
    "    \"decrease\",\n",
    "    \"low\",\n",
    "    \"bottom\",\n",
    "    \"sell\",\n",
    "    \"take out\"\n",
    "    \"negative\",\n",
    "    \"down\",\n",
    "    \"bad\",\n",
    "    \"sad\",\n",
    "    \"\\-\",\n",
    "    \"loss\",\n",
    "    \"lose\",\n",
    "    \"min\",\n",
    "    \"decline\",\n",
    "    \"fall\",\n",
    "]\n",
    "\n",
    "compiled_positive_words = [re.compile((word + \".*\")) for word in positive_words]\n",
    "compiled_negative_words = [re.compile((word + \".*\")) for word in negative_words]"
   ]
  },
  {
   "cell_type": "code",
   "execution_count": 8,
   "metadata": {},
   "outputs": [],
   "source": [
    "# _predictions = price:\n",
    "#    * Increase -> 1\n",
    "#    * Same -> 0\n",
    "#    * Decrease -> -1\n",
    "\n",
    "# pomožne funkcije\n",
    "\n",
    "def get_num_of_positive_words(text):\n",
    "    r = 0\n",
    "    for word in text.split(\" \"):\n",
    "        for positive_word in compiled_positive_words:\n",
    "            isMatch = bool(re.match(positive_word, word))\n",
    "            if (isMatch):\n",
    "                r+= 1\n",
    "    return r\n",
    "\n",
    "def get_num_of_negative_words(text):\n",
    "    r = 0\n",
    "    for word in text.split(\" \"):\n",
    "        for negative_word in compiled_negative_words:\n",
    "            isMatch = bool(re.match(negative_word, word))\n",
    "            if (isMatch):\n",
    "                r+= 1\n",
    "    return r\n",
    "            \n",
    "    \n",
    "    \n",
    "\n",
    "def predict_from_comment(comment):\n",
    "    comment_content = comment[3]\n",
    "    \n",
    "    num_of_positive = get_num_of_positive_words(comment_content)\n",
    "    num_of_negative = get_num_of_negative_words(comment_content)\n",
    "    \n",
    "    return num_of_positive - num_of_negative    "
   ]
  },
  {
   "cell_type": "markdown",
   "metadata": {},
   "source": [
    "## Poztiven negativen komentar"
   ]
  },
  {
   "cell_type": "markdown",
   "metadata": {},
   "source": [
    "Dan je ocenjen samo glede na število pozitivnih-negativnih komentarjev"
   ]
  },
  {
   "cell_type": "code",
   "execution_count": 9,
   "metadata": {},
   "outputs": [
    {
     "data": {
      "text/plain": [
       "[50, 24, 36, -5, 111, 49, 61, -7, 81]"
      ]
     },
     "execution_count": 9,
     "metadata": {},
     "output_type": "execute_result"
    }
   ],
   "source": [
    "dd_full_predictions = []\n",
    "\n",
    "# bitcoinDD\n",
    "for submission in bitcoinDD_submissions:\n",
    "    submission_prediction = 0\n",
    "    \n",
    "    submission_comments = submission[5]\n",
    "    for comment in submission_comments:\n",
    "        comment_prediction = predict_from_comment(comment)\n",
    "        submission_prediction += comment_prediction\n",
    "        \n",
    "    dd_full_predictions.append(submission_prediction)\n",
    "    \n",
    "# cryptocurrencyDD\n",
    "for i, submission in enumerate(cryptocurrencyDD_submissions):\n",
    "    submission_prediction = 0\n",
    "    \n",
    "    submission_comments = submission[5]\n",
    "    for comment in submission_comments:\n",
    "        comment_prediction = predict_from_comment(comment)\n",
    "        submission_prediction += comment_prediction\n",
    "        \n",
    "    dd_full_predictions[i] += submission_prediction\n",
    "    \n",
    "# removes last prediction becouse there is no correct-prediction data for it\n",
    "dd_full_predictions = dd_full_predictions[:-1]    \n",
    "    \n",
    "dd_full_predictions"
   ]
  },
  {
   "cell_type": "code",
   "execution_count": 10,
   "metadata": {},
   "outputs": [
    {
     "data": {
      "text/plain": [
       "<matplotlib.text.Text at 0x7f911ba79048>"
      ]
     },
     "execution_count": 10,
     "metadata": {},
     "output_type": "execute_result"
    },
    {
     "data": {
      "image/png": "[encoded data removed]",
      "text/plain": [
       "<matplotlib.figure.Figure at 0x7f911baca198>"
      ]
     },
     "metadata": {},
     "output_type": "display_data"
    }
   ],
   "source": [
    "fig, ax = plt.subplots()\n",
    "fig.set_size_inches(10,5)\n",
    "\n",
    "x_es = list(range(len(dd_full_predictions)))\n",
    "\n",
    "plt.plot(x_es, [0 for x in x_es])\n",
    "\n",
    "plt.plot(x_es, dd_full_predictions, linestyle='-',marker=\"o\")\n",
    "\n",
    "x_ticks = [dd_dates[i] for i in x_es]\n",
    "plt.xticks(x_es, x_ticks)\n",
    "\n",
    "plt.title(\"Skupna predikcija komentarjev za naslednji dan\")\n",
    "\n",
    "\n",
    "plt.xlabel(\"Datum\")\n",
    "plt.ylabel(\"predikcija\")"
   ]
  },
  {
   "cell_type": "code",
   "execution_count": 11,
   "metadata": {},
   "outputs": [
    {
     "data": {
      "text/plain": [
       "[1, 1, 1, -1, 1, 1, 1, -1, 1]"
      ]
     },
     "execution_count": 11,
     "metadata": {},
     "output_type": "execute_result"
    }
   ],
   "source": [
    "dd_predictions = []\n",
    "\n",
    "for full_prediction in dd_full_predictions:\n",
    "    prediction = 0\n",
    "    if full_prediction > 0:\n",
    "        prediction = 1\n",
    "    if full_prediction < 0:\n",
    "        prediction = -1\n",
    "    dd_predictions.append(prediction)\n",
    "    \n",
    "dd_predictions"
   ]
  },
  {
   "cell_type": "code",
   "execution_count": 12,
   "metadata": {},
   "outputs": [
    {
     "name": "stdout",
     "output_type": "stream",
     "text": [
      "Date       Actual Predicted wasCorrect\n",
      "---------------------------------------\n",
      "2018-04-02      1         1       True\n",
      "2018-04-03     -1         1      False\n",
      "2018-04-04     -1         1      False\n",
      "2018-04-05     -1        -1       True\n",
      "2018-04-06      1         1       True\n",
      "2018-04-07     -1         1      False\n",
      "2018-04-08     -1         1      False\n",
      "2018-04-09      1        -1      False\n",
      "2018-04-10      1         1       True\n",
      "\n",
      "4/9\n"
     ]
    }
   ],
   "source": [
    "# Evaluates the result\n",
    "\n",
    "numOfCorrect = 0\n",
    "numOfIncorrect = 0\n",
    "\n",
    "print(\"Date      \", \"Actual\", \"Predicted\", \"wasCorrect\")\n",
    "print(\"---------------------------------------\")\n",
    "for i in range(len(dd_predictions)):\n",
    "    date = dd_dates[i] # there is no price prediction for first date\n",
    "    prediction = dd_predictions[i]\n",
    "    correct_prediction = bitstamp_price_correctPredictions[i]\n",
    "    \n",
    "    wasCorrect = prediction == correct_prediction\n",
    "    if wasCorrect:\n",
    "        numOfCorrect += 1\n",
    "    else:\n",
    "        numOfIncorrect += 1\n",
    "    \n",
    "    print(date, str(correct_prediction).rjust(6), str(prediction).rjust(9), str(wasCorrect).rjust(10))\n",
    "\n",
    "print()\n",
    "print(str(numOfCorrect) + \"/\" + str(numOfCorrect + numOfIncorrect))"
   ]
  },
  {
   "cell_type": "markdown",
   "metadata": {},
   "source": [
    "## Uteženi komentarji"
   ]
  },
  {
   "cell_type": "markdown",
   "metadata": {},
   "source": [
    "predict komentarja je utežen.\n",
    "Utežen je glede na to kakšen je level komentarja, kakšen je score ter ali je komentar pozitiven ali negativen."
   ]
  },
  {
   "cell_type": "code",
   "execution_count": 16,
   "metadata": {},
   "outputs": [
    {
     "data": {
      "text/plain": [
       "[93.19999999999999,\n",
       " -37.90000000000002,\n",
       " 171.7000000000001,\n",
       " 7.400000000000038,\n",
       " 234.2999999999999,\n",
       " 167.09999999999997,\n",
       " 92.39999999999999,\n",
       " -71.49999999999999,\n",
       " 197.69999999999993]"
      ]
     },
     "execution_count": 16,
     "metadata": {},
     "output_type": "execute_result"
    }
   ],
   "source": [
    "dd_full_weightedPredictions = []\n",
    "\n",
    "# bitcoinDD\n",
    "for submission in bitcoinDD_submissions:\n",
    "    submission_prediction = 0\n",
    "    \n",
    "    submission_comments = submission[5]\n",
    "    for comment in submission_comments:\n",
    "        comment_level = comment[0]\n",
    "        comment_score = comment[2]\n",
    "        comment_prediction = predict_from_comment(comment)\n",
    "        if (comment_prediction > 0):\n",
    "            comment_prediction = 1\n",
    "        if (comment_prediction < 0):\n",
    "            comment_prediction = -1\n",
    "        \n",
    "        # ((1 - (level * 0,1)) * score) * (+-1 _odvisno_ali_je_komentar_pozitiven_ali_negativen_)\n",
    "        prediction = ((1 - (comment_level * 0.1)) * comment_score) * comment_prediction\n",
    "        submission_prediction += prediction\n",
    "    \n",
    "    dd_full_weightedPredictions.append(submission_prediction)\n",
    "    \n",
    "# cryptocurrencyDD\n",
    "for i, submission in enumerate(cryptocurrencyDD_submissions):\n",
    "    submission_prediction = 0\n",
    "    \n",
    "    submission_comments = submission[5]\n",
    "    for comment in submission_comments:\n",
    "        comment_level = comment[0]\n",
    "        comment_score = comment[2]\n",
    "        comment_prediction = predict_from_comment(comment)\n",
    "        if (comment_prediction > 0):\n",
    "            comment_prediction = 1\n",
    "        if (comment_prediction < 0):\n",
    "            comment_prediction = -1\n",
    "        \n",
    "        # ((1 - (level * 0,1)) * score) * (+-1 _odvisno_ali_je_komentar_pozitiven_ali_negativen_)\n",
    "        prediction = ((1 - (comment_level * 0.1)) * comment_score) * comment_prediction\n",
    "        submission_prediction += prediction\n",
    "    \n",
    "    dd_full_weightedPredictions[i] += submission_prediction\n",
    "        \n",
    "# removes last prediction becouse there is no correct-prediction data for it\n",
    "dd_full_weightedPredictions = dd_full_weightedPredictions[:-1]         \n",
    "        \n",
    "dd_full_weightedPredictions"
   ]
  },
  {
   "cell_type": "code",
   "execution_count": 18,
   "metadata": {},
   "outputs": [
    {
     "data": {
      "text/plain": [
       "<matplotlib.text.Text at 0x7f911b78e2b0>"
      ]
     },
     "execution_count": 18,
     "metadata": {},
     "output_type": "execute_result"
    },
    {
     "data": {
      "image/png": "[encoded data removed]",
      "text/plain": [
       "<matplotlib.figure.Figure at 0x7f911b97af98>"
      ]
     },
     "metadata": {},
     "output_type": "display_data"
    }
   ],
   "source": [
    "fig, ax = plt.subplots()\n",
    "fig.set_size_inches(10,5)\n",
    "\n",
    "x_es = list(range(len(dd_full_weightedPredictions)))\n",
    "\n",
    "plt.plot(x_es, [0 for x in x_es])\n",
    "\n",
    "plt.plot(x_es, dd_full_weightedPredictions, linestyle='-',marker=\"o\")\n",
    "\n",
    "x_ticks = [dd_dates[i] for i in x_es]\n",
    "plt.xticks(x_es, x_ticks)\n",
    "\n",
    "plt.title(\"Skupna utežena predikcija komentarjev za naslednji dan\")\n",
    "\n",
    "\n",
    "plt.xlabel(\"Datum\")\n",
    "plt.ylabel(\"predikcija\")"
   ]
  },
  {
   "cell_type": "code",
   "execution_count": 19,
   "metadata": {},
   "outputs": [
    {
     "data": {
      "text/plain": [
       "[1, -1, 1, 1, 1, 1, 1, -1, 1]"
      ]
     },
     "execution_count": 19,
     "metadata": {},
     "output_type": "execute_result"
    }
   ],
   "source": [
    "dd_predictions = []\n",
    "\n",
    "for full_prediction in dd_full_weightedPredictions:\n",
    "    prediction = 0\n",
    "    if full_prediction > 0:\n",
    "        prediction = 1\n",
    "    if full_prediction < 0:\n",
    "        prediction = -1\n",
    "    dd_predictions.append(prediction)\n",
    "    \n",
    "dd_predictions"
   ]
  },
  {
   "cell_type": "code",
   "execution_count": 20,
   "metadata": {},
   "outputs": [
    {
     "name": "stdout",
     "output_type": "stream",
     "text": [
      "Date       Actual Predicted wasCorrect\n",
      "---------------------------------------\n",
      "2018-04-02      1         1       True\n",
      "2018-04-03     -1        -1       True\n",
      "2018-04-04     -1         1      False\n",
      "2018-04-05     -1         1      False\n",
      "2018-04-06      1         1       True\n",
      "2018-04-07     -1         1      False\n",
      "2018-04-08     -1         1      False\n",
      "2018-04-09      1        -1      False\n",
      "2018-04-10      1         1       True\n",
      "\n",
      "4/9\n"
     ]
    }
   ],
   "source": [
    "# Evaluates the result\n",
    "\n",
    "numOfCorrect = 0\n",
    "numOfIncorrect = 0\n",
    "\n",
    "print(\"Date      \", \"Actual\", \"Predicted\", \"wasCorrect\")\n",
    "print(\"---------------------------------------\")\n",
    "for i in range(len(dd_predictions)):\n",
    "    date = dd_dates[i] # there is no price prediction for first date\n",
    "    prediction = dd_predictions[i]\n",
    "    correct_prediction = bitstamp_price_correctPredictions[i]\n",
    "    \n",
    "    wasCorrect = prediction == correct_prediction\n",
    "    if wasCorrect:\n",
    "        numOfCorrect += 1\n",
    "    else:\n",
    "        numOfIncorrect += 1\n",
    "    \n",
    "    print(date, str(correct_prediction).rjust(6), str(prediction).rjust(9), str(wasCorrect).rjust(10))\n",
    "\n",
    "print()\n",
    "print(str(numOfCorrect) + \"/\" + str(numOfCorrect + numOfIncorrect))"
   ]
  },
  {
   "cell_type": "code",
   "execution_count": null,
   "metadata": {},
   "outputs": [],
   "source": []
  }
 ],
 "metadata": {
  "kernelspec": {
   "display_name": "Python 3",
   "language": "python",
   "name": "python3"
  },
  "language_info": {
   "codemirror_mode": {
    "name": "ipython",
    "version": 3
   },
   "file_extension": ".py",
   "mimetype": "text/x-python",
   "name": "python",
   "nbconvert_exporter": "python",
   "pygments_lexer": "ipython3",
   "version": "3.5.2"
  }
 },
 "nbformat": 4,
 "nbformat_minor": 2
}
