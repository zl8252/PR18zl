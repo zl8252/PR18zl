{
 "cells": [
  {
   "cell_type": "markdown",
   "metadata": {},
   "source": [
    "# Reddit Podatki"
   ]
  },
  {
   "cell_type": "code",
   "execution_count": 132,
   "metadata": {},
   "outputs": [],
   "source": [
    "%matplotlib inline\n",
    "import matplotlib\n",
    "import matplotlib.patches as mpatches\n",
    "import matplotlib.pyplot as plt\n",
    "\n",
    "import numpy as np\n",
    "\n",
    "import glob\n",
    "\n",
    "import os"
   ]
  },
  {
   "cell_type": "markdown",
   "metadata": {},
   "source": [
    "### Naloži podatke"
   ]
  },
  {
   "cell_type": "code",
   "execution_count": 133,
   "metadata": {},
   "outputs": [],
   "source": [
    "# all methods for parsing\n",
    "\n",
    "def parse_subbreddit(path):\n",
    "    days = []\n",
    "    folders = [path + \"/\" + folder + \"/\" for folder in sorted(os.listdir(path))]\n",
    "    for folder in folders:\n",
    "        file_paths = sorted(glob.glob(folder + \"*.txt\"))\n",
    "        files = [open(file_path) for file_path in file_paths]\n",
    "        submissions_of_day = parse_submissions_of_day(files)\n",
    "        days.append(submissions_of_day)\n",
    "    return days\n",
    "    \n",
    "\n",
    "def parse_submissions_of_day(files):\n",
    "    submissions_of_day = []\n",
    "    for file in files:\n",
    "        submissions_of_day.append(parse_submission_file(file))\n",
    "    return submissions_of_day\n",
    "\n",
    "def parse_submission_file(file):\n",
    "    comments = []\n",
    "    for line_num, line in enumerate(file):\n",
    "        if line_num == 0:\n",
    "            file_creationTime = int(line[17:])\n",
    "            continue\n",
    "        if line_num == 1:\n",
    "            subreddit = line[11:]\n",
    "            continue\n",
    "        if line_num == 2:\n",
    "            submission_title = line[18:]\n",
    "            continue\n",
    "        if line_num == 3:\n",
    "            submission_creationTime = int(line[24:])\n",
    "            continue\n",
    "        if line_num == 4:\n",
    "            submission_score = int(line[18:])\n",
    "            continue\n",
    "        if line_num == 5:\n",
    "            continue\n",
    "        if line_num == 6:\n",
    "            continue\n",
    "        comments.append(pase_comment_line(line))\n",
    "    return (file_creationTime, \n",
    "            subreddit, \n",
    "            submission_title, \n",
    "            submission_creationTime,\n",
    "            submission_score,\n",
    "            comments)\n",
    "        \n",
    "def pase_comment_line(line):\n",
    "    line_split = line.split(\"\\t\")\n",
    "    level = int(line_split[0])\n",
    "    creationTime = int(line_split[1])\n",
    "    score = int(line_split[2])\n",
    "    content = line_split[3]\n",
    "    \n",
    "    return (level,\n",
    "            creationTime,\n",
    "            score,\n",
    "            content)"
   ]
  },
  {
   "cell_type": "code",
   "execution_count": 134,
   "metadata": {
    "scrolled": false
   },
   "outputs": [],
   "source": [
    "# parsing of subreddits\n",
    "\n",
    "def get_days(subreddit_path):\n",
    "    folders = sorted(os.listdir(subreddit_path))\n",
    "    return folders\n",
    "\n",
    "bitcoin_subreddit_path = \"./../data/reddit/Bitcoin/\"\n",
    "bitcoinMarkets_subreddit_path = \"./../data/reddit/BitcoinMarkets/\"\n",
    "btc_subreddit_path = \"./../data/reddit/btc//\"\n",
    "btcNews_subreddit_path = \"./../data/reddit/BTCNews/\"\n",
    "cryptocurrency_subreddit_path = \"./../data/reddit/CryptoCurrency/\"\n",
    "\n",
    "# data\n",
    "data_days = get_days(bitcoin_subreddit_path)\n",
    "\n",
    "bitcoin_days = parse_subbreddit(bitcoin_subreddit_path)\n",
    "bitcoinMarkets_days = parse_subbreddit(bitcoinMarkets_subreddit_path)\n",
    "btc_days = parse_subbreddit(btc_subreddit_path)\n",
    "btcNews_days = parse_subbreddit(btcNews_subreddit_path)\n",
    "cryptocurrency_days = parse_subbreddit(cryptocurrency_subreddit_path)"
   ]
  },
  {
   "cell_type": "code",
   "execution_count": 135,
   "metadata": {},
   "outputs": [],
   "source": [
    "# parsing of dayly discussions\n",
    "\n",
    "def get_dd_dates(file_names):\n",
    "    r = []\n",
    "    for file_name in file_names:\n",
    "        split = file_name.split(\"/\")\n",
    "        date = split[-1].replace(\".txt\", \"\")\n",
    "        r.append(date)\n",
    "    return r\n",
    "\n",
    "def get_submissions(file_names):\n",
    "    r = []\n",
    "    for file_name in file_names:\n",
    "        file = open(file_name)\n",
    "        r.append(parse_submission_file(file))\n",
    "    return r\n",
    "\n",
    "bitcoinDD_filenames = sorted(glob.glob(\"../data/reddit/daily_discussion_bitcoin/*.txt\"))\n",
    "cryptocurrency_DD_filenames = sorted(glob.glob(\"../data/reddit/daily_discussion_cryptocurrency/*.txt\"))\n",
    "\n",
    "# data\n",
    "\n",
    "dd_dates = get_dd_dates(bitcoinDD_filenames)\n",
    "\n",
    "bitcoinDD_submissions = get_submissions(bitcoinDD_filenames)\n",
    "cryptocurrencyDD_submissions = get_submissions(cryptocurrency_DD_filenames)"
   ]
  },
  {
   "cell_type": "markdown",
   "metadata": {},
   "source": [
    "### Osnovna statistika"
   ]
  },
  {
   "cell_type": "code",
   "execution_count": 137,
   "metadata": {},
   "outputs": [],
   "source": [
    "# numOf Top Level comments\n",
    "bitcoinDD_numOfLevel0Comments = []\n",
    "cryptocurrencyDD_numOfLevel0Comments = []\n",
    "\n",
    "def get_dd_numOfLevel0Comments(submissions):\n",
    "    r = []\n",
    "    for submission in submissions:\n",
    "        numOfLevel0Comments = 0\n",
    "        comments = submission[5]\n",
    "        for comment in comments:\n",
    "            if comment[0] == 0:\n",
    "                numOfLevel0Comments += 1\n",
    "        r.append(numOfLevel0Comments)\n",
    "    return r\n",
    "\n",
    "bitcoinDD_numOfLevel0Comments = get_dd_numOfLevel0Comments(bitcoinDD_submissions)\n",
    "cryptocurrencyDD_numOfLevel0Comments = get_dd_numOfLevel0Comments(cryptocurrencyDD_submissions)"
   ]
  },
  {
   "cell_type": "code",
   "execution_count": 138,
   "metadata": {},
   "outputs": [
    {
     "data": {
      "text/plain": [
       "([615, 950, 777, 920, 703, 600, 913, 954, 492],\n",
       " [449, 744, 1352, 1209, 687, 1040, 845, 581, 444])"
      ]
     },
     "execution_count": 138,
     "metadata": {},
     "output_type": "execute_result"
    }
   ],
   "source": [
    "# numOf comments for day\n",
    "\n",
    "def get_num_of_comments_for_day(day):\n",
    "    r = 0\n",
    "    for submission in day:\n",
    "        comments = submission[5]\n",
    "        r += len(comments)\n",
    "    return r\n",
    "\n",
    "bitcoin_days_numOfComments = [get_num_of_comments_for_day(day) for day in bitcoin_days]\n",
    "bitcoinMarkets_days_numOfComments = [get_num_of_comments_for_day(day) for day in bitcoinMarkets_days]\n",
    "btc_days_numOfComments = [get_num_of_comments_for_day(day) for day in btc_days]\n",
    "btcNews_days_numOfComments = [get_num_of_comments_for_day(day) for day in btcNews_days]\n",
    "cryptocurrency_days_numOfComments = [get_num_of_comments_for_day(day) for day in cryptocurrency_days]\n",
    "\n",
    "bitcoin_days_numOfComments, btc_days_numOfComments"
   ]
  },
  {
   "cell_type": "code",
   "execution_count": 49,
   "metadata": {},
   "outputs": [
    {
     "name": "stdout",
     "output_type": "stream",
     "text": [
      "Povprečen score komentarjev\n",
      "\n",
      "Bitcoin Daily Discussion:\n",
      "2018-04-02 -> 1.36994219653\n",
      "2018-04-03 -> 1.33742331288\n",
      "2018-04-04 -> 1.65032679739\n",
      "2018-04-05 -> 1.52674897119\n",
      "2018-04-06 -> 1.60769230769\n",
      "2018-04-07 -> 1.09047619048\n",
      "2018-04-08 -> 1.40186915888\n",
      "2018-04-09 -> 1.48210023866\n",
      "\n",
      "CryptoCurrency Daily Discussion:\n",
      "2018-04-02 -> 5.68308351178\n",
      "2018-04-03 -> 5.68875502008\n",
      "2018-04-04 -> 4.74442190669\n",
      "2018-04-05 -> 5.11064718163\n",
      "2018-04-06 -> 5.1623246493\n",
      "2018-04-07 -> 3.31578947368\n",
      "2018-04-08 -> 3.21854304636\n",
      "2018-04-09 -> 4.98736842105\n"
     ]
    }
   ],
   "source": [
    "bitcoinDD_meanScores = []\n",
    "cryptocurrencyDD_meanScores = []\n",
    "\n",
    "def calculate_meanScores(submissions):\n",
    "    r = []\n",
    "    for submission in submissions:\n",
    "        comments = submission[5]\n",
    "        scores = [comment[2] for comment in comments]\n",
    "        r.append(np.mean(scores))\n",
    "    return r\n",
    "\n",
    "\n",
    "bitcoinDD_meanScores = calculate_meanScores(bitcoinDD_submissions)\n",
    "cryptocurrencyDD_meanScores = calculate_meanScores(cryptocurrencyDD_submissions)\n",
    "\n",
    "print(\"Povprečen score komentarjev\")\n",
    "print()\n",
    "print(\"Bitcoin Daily Discussion:\")\n",
    "for i in range(len(bitcoinDD_meanScores)):\n",
    "    print(dd_dates[i], \"->\",bitcoinDD_meanScores[i])\n",
    "print()\n",
    "print(\"CryptoCurrency Daily Discussion:\")\n",
    "for i in range(len(cryptocurrencyDD_meanScores)):\n",
    "    print(dd_dates[i], \"->\",cryptocurrencyDD_meanScores[i])"
   ]
  },
  {
   "cell_type": "markdown",
   "metadata": {},
   "source": [
    "### Visualisation"
   ]
  },
  {
   "cell_type": "markdown",
   "metadata": {},
   "source": [
    "#### Število Level_0 komentarjev  (Daily Discussion)"
   ]
  },
  {
   "cell_type": "code",
   "execution_count": 139,
   "metadata": {},
   "outputs": [
    {
     "data": {
      "image/png": "[encoded data removed]",
      "text/plain": [
       "<matplotlib.figure.Figure at 0x7fba10a370f0>"
      ]
     },
     "metadata": {},
     "output_type": "display_data"
    },
    {
     "data": {
      "text/plain": [
       "<matplotlib.figure.Figure at 0x7fba18fc44e0>"
      ]
     },
     "metadata": {},
     "output_type": "display_data"
    }
   ],
   "source": [
    "fig, ax = plt.subplots()\n",
    "\n",
    "x_es = list(range(len(dd_dates)))\n",
    "x_ticks = [date for date in dd_dates]\n",
    "\n",
    "fig.set_size_inches(10,5)\n",
    "\n",
    "# bitcoin\n",
    "bitcoin_color = \"orange\"\n",
    "plt.plot(x_es, bitcoinDD_numOfLevel0Comments,\n",
    "         linestyle='-',marker=\"o\",\n",
    "         color=bitcoin_color)\n",
    "bitcoin_patch = mpatches.Patch(color=bitcoin_color, label='/r/Bitcoin')\n",
    "\n",
    "# cryptoCurrency\n",
    "cryptocurrency_color = \"blue\"\n",
    "plt.plot(x_es, cryptocurrencyDD_numOfLevel0Comments,\n",
    "         linestyle='-',marker=\"o\",\n",
    "        color=cryptocurrency_color)\n",
    "cryptocurrency_patch = mpatches.Patch(color=cryptocurrency_color, label='/r/CryptoCurrency')\n",
    "\n",
    "plt.title(\"Število Level_0 Komentarjev (Daily Discussion)\")\n",
    "\n",
    "plt.legend(handles=[bitcoin_patch, cryptocurrency_patch])\n",
    "\n",
    "plt.ylabel(\"Število Komentarjev\")\n",
    "plt.xlabel(\"Datum\")\n",
    "\n",
    "plt.xticks(x_es, x_ticks)\n",
    "\n",
    "plt.show()\n",
    "plt.draw()"
   ]
  },
  {
   "cell_type": "code",
   "execution_count": 40,
   "metadata": {},
   "outputs": [],
   "source": [
    "# Shrani\n",
    "fig.savefig('../assets/daily_discussion_st_komentarjev.png')"
   ]
  },
  {
   "cell_type": "markdown",
   "metadata": {},
   "source": [
    "#### Število vseh komentarjev"
   ]
  },
  {
   "cell_type": "code",
   "execution_count": 140,
   "metadata": {},
   "outputs": [
    {
     "data": {
      "image/png": "[encoded data removed]",
      "text/plain": [
       "<matplotlib.figure.Figure at 0x7fba105ada20>"
      ]
     },
     "metadata": {},
     "output_type": "display_data"
    },
    {
     "data": {
      "text/plain": [
       "<matplotlib.figure.Figure at 0x7fba10555e10>"
      ]
     },
     "metadata": {},
     "output_type": "display_data"
    }
   ],
   "source": [
    "fig, ax = plt.subplots()\n",
    "\n",
    "x_es = list(range(len(data_days)))\n",
    "x_ticks = [date for date in dd_dates]\n",
    "\n",
    "fig.set_size_inches(10,5)\n",
    "\n",
    "# bitcoin\n",
    "bitcoin_color = \"red\"\n",
    "plt.plot(x_es, bitcoin_days_numOfComments,\n",
    "         linestyle='-',\n",
    "         color=bitcoin_color)\n",
    "bitcoin_patch = mpatches.Patch(color=bitcoin_color, label='/r/Bitcoin')\n",
    "\n",
    "# bitcoinMarkets\n",
    "bitcoinMarkets_color = \"orange\"\n",
    "plt.plot(x_es, bitcoinMarkets_days_numOfComments,\n",
    "         linestyle='-',\n",
    "         color=bitcoinMarkets_color)\n",
    "bitcoinMarkets_patch = mpatches.Patch(color=bitcoinMarkets_color, label='/r/BitcoinMarkets')\n",
    "\n",
    "# btc\n",
    "btc_color = \"green\"\n",
    "plt.plot(x_es, btc_days_numOfComments,\n",
    "         linestyle='-',\n",
    "         color=btc_color)\n",
    "btc_patch = mpatches.Patch(color=btc_color, label='/r/btc')\n",
    "\n",
    "# btcNews\n",
    "btcNews_color = \"blue\"\n",
    "plt.plot(x_es, btcNews_days_numOfComments,\n",
    "         linestyle='-',\n",
    "         color=btcNews_color)\n",
    "btcNews_patch = mpatches.Patch(color=btcNews_color, label='/r/btcNews')\n",
    "\n",
    "# cryptocurrency\n",
    "cryptocurrency_color = \"violet\"\n",
    "plt.plot(x_es, cryptocurrency_days_numOfComments,\n",
    "         linestyle='-',\n",
    "         color=cryptocurrency_color)\n",
    "cryptocurrency_patch = mpatches.Patch(color=cryptocurrency_color, label='/r/cryptocurrency')\n",
    "\n",
    "\n",
    "plt.title(\"Število Komentarjev\")\n",
    "\n",
    "plt.legend(handles=[bitcoin_patch,\n",
    "                   bitcoinMarkets_patch,\n",
    "                   btc_patch,\n",
    "                   btcNews_patch,\n",
    "                   cryptocurrency_patch])\n",
    "\n",
    "plt.ylabel(\"Število Komentarjev\")\n",
    "plt.xlabel(\"Datum\")\n",
    "\n",
    "plt.xticks(x_es, x_ticks)\n",
    "\n",
    "plt.show()\n",
    "plt.draw()"
   ]
  },
  {
   "cell_type": "code",
   "execution_count": 102,
   "metadata": {},
   "outputs": [],
   "source": [
    "# Shrani\n",
    "fig.savefig('../assets/subreddits_st_komentarjev.png')"
   ]
  },
  {
   "cell_type": "code",
   "execution_count": null,
   "metadata": {},
   "outputs": [],
   "source": []
  }
 ],
 "metadata": {
  "kernelspec": {
   "display_name": "Python 3",
   "language": "python",
   "name": "python3"
  },
  "language_info": {
   "codemirror_mode": {
    "name": "ipython",
    "version": 3
   },
   "file_extension": ".py",
   "mimetype": "text/x-python",
   "name": "python",
   "nbconvert_exporter": "python",
   "pygments_lexer": "ipython3",
   "version": "3.5.2"
  }
 },
 "nbformat": 4,
 "nbformat_minor": 2
}
