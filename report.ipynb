{
 "cells": [
  {
   "cell_type": "markdown",
   "metadata": {},
   "source": [
    "# Reddit in Nihanje Cene Bitcoinov"
   ]
  },
  {
   "cell_type": "code",
   "execution_count": 1,
   "metadata": {},
   "outputs": [],
   "source": [
    "%matplotlib inline\n",
    "import matplotlib\n",
    "import matplotlib.patches as mpatches\n",
    "import matplotlib.pyplot as plt\n",
    "\n",
    "import numpy as np\n",
    "\n",
    "import glob\n",
    "\n",
    "import os\n",
    "\n",
    "import re"
   ]
  },
  {
   "cell_type": "code",
   "execution_count": 2,
   "metadata": {},
   "outputs": [],
   "source": [
    "# ---------- Nalaganje podatkov (Cena) ----------\n",
    "\n",
    "def parse_prices_file(file):\n",
    "    prices = []\n",
    "    first_line = True\n",
    "    for line in file:\n",
    "        if (first_line):\n",
    "            first_line = False\n",
    "            continue\n",
    "        line_split = line.split(\";\")\n",
    "        price = float(line_split[2])\n",
    "        prices.append(price)\n",
    "    return prices\n",
    "\n",
    "# bitstamp\n",
    "bitstamp_prices_file = open(\"./data/price/bitstamp_bitcoin.txt\")\n",
    "bitstamp_prices = parse_prices_file(bitstamp_prices_file)\n",
    "\n",
    "## coinmarketcap\n",
    "coinmarketcap_file = open(\"./data/price/coinmarketcap_bitcoin.txt\")\n",
    "coinmarketcap_prices = parse_prices_file(coinmarketcap_file)\n",
    "\n",
    "# ---------- Nalaganje podatkov (Reddit) ----------\n",
    "\n",
    "def parse_submission_file(file):\n",
    "    comments = []\n",
    "    for line_num, line in enumerate(file):\n",
    "        if line_num == 0:\n",
    "            file_creationTime = int(line[17:])\n",
    "            continue\n",
    "        if line_num == 1:\n",
    "            subreddit = line[11:]\n",
    "            continue\n",
    "        if line_num == 2:\n",
    "            submission_title = line[18:]\n",
    "            continue\n",
    "        if line_num == 3:\n",
    "            submission_creationTime = int(line[24:])\n",
    "            continue\n",
    "        if line_num == 4:\n",
    "            submission_score = int(line[18:])\n",
    "            continue\n",
    "        if line_num == 5:\n",
    "            continue\n",
    "        if line_num == 6:\n",
    "            continue\n",
    "        comments.append(pase_comment_line(line))\n",
    "    return (file_creationTime, \n",
    "            subreddit, \n",
    "            submission_title, \n",
    "            submission_creationTime,\n",
    "            submission_score,\n",
    "            comments)\n",
    "\n",
    "def pase_comment_line(line):\n",
    "    line_split = line.split(\"\\t\")\n",
    "    level = int(line_split[0])\n",
    "    creationTime = int(line_split[1])\n",
    "    score = int(line_split[2])\n",
    "    content = line_split[3]\n",
    "    \n",
    "    return (level,\n",
    "            creationTime,\n",
    "            score,\n",
    "            content)\n",
    "\n",
    "# Naloži vse potrebne podatke\n",
    "\n",
    "def get_dd_dates(file_names):\n",
    "    r = []\n",
    "    for file_name in file_names:\n",
    "        split = file_name.split(\"/\")\n",
    "        date = split[-1].replace(\".txt\", \"\")\n",
    "        r.append(date)\n",
    "    return r\n",
    "\n",
    "def load_daily_discussion(file_names):\n",
    "    r = []\n",
    "    for file_name in file_names:\n",
    "        file = open(file_name)\n",
    "        r.append(parse_submission_file(file))\n",
    "    return r\n",
    "\n",
    "\n",
    "\n",
    "# naloži DailyDiscussion-Bitcoin\n",
    "bitcoinDD_filenames = sorted(glob.glob(\"./data/reddit/daily_discussion_bitcoin/*.txt\"))\n",
    "bitcoinDD_submissions = load_daily_discussion(bitcoinDD_filenames)\n",
    "\n",
    "# naloži DailyDiscussion-Cryptocurrency\n",
    "cryptocurrencyDD_filenames = sorted(glob.glob(\"./data/reddit/daily_discussion_cryptocurrency/*.txt\"))\n",
    "cryptocurrencyDD_submissions = load_daily_discussion(cryptocurrencyDD_filenames)\n",
    "\n",
    "# prodobi datume za katere obstajajo podatki\n",
    "dd_dates = get_dd_dates(bitcoinDD_filenames)"
   ]
  },
  {
   "cell_type": "code",
   "execution_count": 3,
   "metadata": {},
   "outputs": [
    {
     "name": "stdout",
     "output_type": "stream",
     "text": [
      "Correct price predictions (for Bitstamp):\n",
      "[1, -1, -1, -1, 1, -1, -1, 1, 1]\n"
     ]
    }
   ],
   "source": [
    "# Ugotovi kakšne so bile pravilne napovedi cene\n",
    "\n",
    "bitstamp_price_correctPredictions = []\n",
    "\n",
    "for i in range(len(bitstamp_prices) -1):\n",
    "    price = bitstamp_prices[i]\n",
    "    nextPrice = bitstamp_prices[i +1]\n",
    "    if nextPrice > price:\n",
    "        correct_prediction = 1\n",
    "    if nextPrice == price:\n",
    "        correct_prediction = 0\n",
    "    if nextPrice < price:\n",
    "        correct_prediction = -1\n",
    "    bitstamp_price_correctPredictions.append(correct_prediction)\n",
    "        \n",
    "print(\"Correct price predictions (for Bitstamp):\")\n",
    "print(bitstamp_price_correctPredictions)"
   ]
  },
  {
   "cell_type": "markdown",
   "metadata": {},
   "source": [
    "## Opis podatkov"
   ]
  },
  {
   "cell_type": "markdown",
   "metadata": {},
   "source": [
    "### Cena Bitcoina\n",
    "\n",
    "Cena Bitcoinov je pridobljena iz spletnih strani [Bitstamp](https://www.bitstamp.net/) in [CoinMarketCap](https://coinmarketcap.com/).\n",
    "\n",
    "Cena je v evrih in je pridobljena za vsak dan ob približno isti uri."
   ]
  },
  {
   "cell_type": "markdown",
   "metadata": {},
   "source": [
    "### Reddit podatki\n",
    "\n",
    "Skript za pridobivanje podatkov je shranjen v datoteki \"/reddit_data_getter/reddit_data_getter.py\". Skript za dostop do Reddita uporablja knjižnico [PRAW](https://github.com/praw-dev/praw). Podatki so shranjeni vsak dan ob približno isti uri.\n",
    "\n",
    "Reddit podatki so shranjeni v \"/data/reddit/\", grupirani pa so po Subredditih in dnevih. Za vsak dan za vsak Subreddit je maksimalno 10 datotek. Te predstavljajo \"top\" submissione (objave) s časovnim filtrom \"day\".\n",
    "\n",
    "Za vsako izmed objav je shranjeno:\n",
    "\n",
    "* iz katerega Subreddita prihaja\n",
    "* naslov objave\n",
    "* kdaj je bil submission objavljen\n",
    "* točke objave\n",
    "\n",
    "Prav tako je za vsako objavo shranjenih večina komentarjev. Za vsak komentart je shranjeno:\n",
    "\n",
    "* Level komentarja (komentar objave ima level 0, komentar komentarja ima level 1, ...)\n",
    "* kdaj je bil komentar ustvarjen\n",
    "* točke komentarja\n",
    "* vsebina komentarja\n",
    "\n",
    "Podatki so pridobljeni iz naslednjih Subredditov:\n",
    "\n",
    "* /r/Bitcoin\n",
    "* /r/btc\n",
    "* /r/BTCNews\n",
    "* /r/CryptoCurrency\n",
    "* /r/BitcoinMarkets\n",
    "\n",
    "Posebej so shranjene objave \"Daily Discussion\" iz Subredditov /r/Bitcoin in /r/CryptoCurrency. Če je Dnevna Razprava dovolj popularna je shranjena tudi v podatkih o \"top\" dnevnih objavah."
   ]
  },
  {
   "cell_type": "markdown",
   "metadata": {},
   "source": [
    "## Pregled podatkov"
   ]
  },
  {
   "cell_type": "markdown",
   "metadata": {},
   "source": [
    "### Cena Bitcoina"
   ]
  },
  {
   "cell_type": "code",
   "execution_count": 4,
   "metadata": {},
   "outputs": [
    {
     "name": "stdout",
     "output_type": "stream",
     "text": [
      "Povprečna cena:\n",
      "* Bitstamp: 5615.642\n",
      "* CoinMarketCap: 5636.264\n",
      "\n",
      "Mediana cene:\n",
      "* Bitstamp: 5562.845\n",
      "* CoinMarketCap:  5571.895\n",
      "\n",
      "Najvišja/Najnižja cena:\n",
      "* Bitstamp najvišja: 6103.0\n",
      "* Bitstamp najnižja: 5395.0\n",
      "* CoinMarketCap najvišja: 6120.96\n",
      "* CoinMarketCap najnižja: 5411.49\n"
     ]
    }
   ],
   "source": [
    "# Povprečje\n",
    "bitstamp_mean = np.mean(bitstamp_prices)\n",
    "coinmarketcap_mean = np.mean(coinmarketcap_prices)\n",
    "\n",
    "# Mediana\n",
    "bitstamp_median = np.median(bitstamp_prices)\n",
    "coinmarketcap_median = np.median(coinmarketcap_prices)\n",
    "\n",
    "# Max, Min\n",
    "bitstamp_max = np.max(bitstamp_prices)\n",
    "bitstamp_min = np.min(bitstamp_prices)\n",
    "coinmarketcap_max = np.max(coinmarketcap_prices)\n",
    "coinmarketcap_min = np.min(coinmarketcap_prices)\n",
    "\n",
    "print(\"Povprečna cena:\")\n",
    "print(\"* Bitstamp:\", bitstamp_mean)\n",
    "print(\"* CoinMarketCap:\", coinmarketcap_mean)\n",
    "print()\n",
    "print(\"Mediana cene:\")\n",
    "print(\"* Bitstamp:\", bitstamp_median)\n",
    "print(\"* CoinMarketCap: \", coinmarketcap_median)\n",
    "print()\n",
    "print(\"Najvišja/Najnižja cena:\")\n",
    "print(\"* Bitstamp najvišja:\", bitstamp_max)\n",
    "print(\"* Bitstamp najnižja:\", bitstamp_min)\n",
    "print(\"* CoinMarketCap najvišja:\", coinmarketcap_max)\n",
    "print(\"* CoinMarketCap najnižja:\", coinmarketcap_min)"
   ]
  },
  {
   "cell_type": "code",
   "execution_count": 5,
   "metadata": {},
   "outputs": [
    {
     "data": {
      "image/png": "[encoded data removed]",
      "text/plain": [
       "<matplotlib.figure.Figure at 0x7f4e1f3cad30>"
      ]
     },
     "metadata": {},
     "output_type": "display_data"
    },
    {
     "data": {
      "text/plain": [
       "<matplotlib.figure.Figure at 0x7f4e1f2efda0>"
      ]
     },
     "metadata": {},
     "output_type": "display_data"
    }
   ],
   "source": [
    "fig, ax = plt.subplots()\n",
    "\n",
    "x_es = list(range(len(dd_dates)))\n",
    "x_ticks = dd_dates\n",
    "\n",
    "fig.set_size_inches(10,5)\n",
    "\n",
    "# bitstamp\n",
    "bitstamp_color = \"green\"\n",
    "plt.plot(x_es, bitstamp_prices,\n",
    "         linestyle='-',marker=\"o\",\n",
    "         color=bitstamp_color)\n",
    "bitstamp_patch = mpatches.Patch(color=bitstamp_color, label='Bitstamp')\n",
    "\n",
    "# coinmarketcap\n",
    "coinmarketcap_color = \"blue\"\n",
    "plt.plot(x_es, coinmarketcap_prices,\n",
    "         linestyle='-',marker=\"o\",\n",
    "        color=coinmarketcap_color)\n",
    "coinmarketcap_patch = mpatches.Patch(color=coinmarketcap_color, label='CoinMarketCap')\n",
    "\n",
    "plt.title(\"Cena Bitcoina\")\n",
    "\n",
    "plt.legend(handles=[bitstamp_patch, coinmarketcap_patch])\n",
    "\n",
    "plt.ylabel(\"Cena €\")\n",
    "plt.xlabel(\"Datum\")\n",
    "\n",
    "plt.xticks(x_es, x_ticks)\n",
    "\n",
    "plt.show()\n",
    "plt.draw()"
   ]
  },
  {
   "cell_type": "markdown",
   "metadata": {},
   "source": [
    "Opazimo da je cena Bitcoina iz obeh virov zelo podobna in da sledi enakim trendom.\n",
    "V nadalnje bom zato za vsako primerjavo cene uporabil ceno pridobljeno iz Bitstamp-a."
   ]
  },
  {
   "cell_type": "markdown",
   "metadata": {},
   "source": [
    "### Reddit"
   ]
  },
  {
   "cell_type": "code",
   "execution_count": 6,
   "metadata": {},
   "outputs": [
    {
     "data": {
      "image/png": "[encoded data removed]",
      "text/plain": [
       "<matplotlib.figure.Figure at 0x7f4e1f37a470>"
      ]
     },
     "metadata": {},
     "output_type": "display_data"
    },
    {
     "data": {
      "text/plain": [
       "<matplotlib.figure.Figure at 0x7f4e1f26ea58>"
      ]
     },
     "metadata": {},
     "output_type": "display_data"
    }
   ],
   "source": [
    "def get_dd_numOfLevel0Comments(submissions):\n",
    "    r = []\n",
    "    for submission in submissions:\n",
    "        numOfLevel0Comments = 0\n",
    "        comments = submission[5]\n",
    "        for comment in comments:\n",
    "            if comment[0] == 0:\n",
    "                numOfLevel0Comments += 1\n",
    "        r.append(numOfLevel0Comments)\n",
    "    return r\n",
    "\n",
    "bitcoinDD_numOfLevel0Comments = get_dd_numOfLevel0Comments(bitcoinDD_submissions)\n",
    "cryptocurrencyDD_numOfLevel0Comments = get_dd_numOfLevel0Comments(cryptocurrencyDD_submissions)\n",
    "\n",
    "fig, ax = plt.subplots()\n",
    "\n",
    "x_es = list(range(len(dd_dates)))\n",
    "x_ticks = [date for date in dd_dates]\n",
    "\n",
    "fig.set_size_inches(10,5)\n",
    "\n",
    "# bitcoin\n",
    "plt.plot(x_es, bitcoinDD_numOfLevel0Comments,\n",
    "         linestyle='-',marker=\"o\",\n",
    "         color=\"orange\")\n",
    "bitcoin_patch = mpatches.Patch(color=\"orange\", label='/r/Bitcoin')\n",
    "\n",
    "# cryptoCurrency\n",
    "plt.plot(x_es, cryptocurrencyDD_numOfLevel0Comments,\n",
    "         linestyle='-',marker=\"o\",\n",
    "        color=\"blue\")\n",
    "cryptocurrency_patch = mpatches.Patch(color=\"blue\", label='/r/CryptoCurrency')\n",
    "\n",
    "plt.title(\"Število Level_0 Komentarjev (Daily Discussion)\")\n",
    "\n",
    "plt.legend(handles=[bitcoin_patch, cryptocurrency_patch])\n",
    "\n",
    "plt.ylabel(\"Število Komentarjev\")\n",
    "plt.xlabel(\"Datum\")\n",
    "\n",
    "plt.xticks(x_es, x_ticks)\n",
    "\n",
    "plt.show()\n",
    "plt.draw()"
   ]
  },
  {
   "cell_type": "code",
   "execution_count": 7,
   "metadata": {},
   "outputs": [
    {
     "name": "stdout",
     "output_type": "stream",
     "text": [
      "\n",
      "\n",
      "Število komentarjev po dnevih:\n",
      " -> Bitcoin\n",
      "[173, 163, 306, 243, 390, 210, 107, 419, 195, 147]\n",
      " -> CryptoCurrency\n",
      "[467, 498, 493, 479, 499, 456, 302, 475, 474, 464]\n",
      "\n",
      "Score vseh komentarjev po dnevih:\n",
      " -> Bitcoin\n",
      "[237, 218, 505, 371, 627, 229, 150, 621, 313, 229]\n",
      " -> CryptoCurrency\n",
      "[2654, 2833, 2339, 2448, 2576, 1512, 972, 2369, 2062, 1920]\n",
      "\n",
      "Utežen score vseh komentarjev po dnevih:\n",
      " -> Bitcoin\n",
      "[204, 189, 440, 314, 490, 190, 134, 516, 259, 206]\n",
      " -> CryptoCurrency\n",
      "[2430, 2632, 2192, 2273, 2374, 1369, 871, 2203, 1899, 1729]\n"
     ]
    }
   ],
   "source": [
    "#opravimo nekaj analiz komentarjev\n",
    "\n",
    "def totalNumOfCommentsForSubmission(submission):\n",
    "    comments = submission[5]\n",
    "    return len(comments)\n",
    "\n",
    "def commentScoreForSubmission(submission):\n",
    "    comments = submission[5]\n",
    "    r = 0\n",
    "    for comment in comments:\n",
    "        r += comment[2]\n",
    "    return r\n",
    "\n",
    "def weightedCommentScoreForSubmission(submission):\n",
    "    comments = submission[5]\n",
    "    r = 0\n",
    "    for comment in comments:\n",
    "        comment_level = comment[0]\n",
    "        comment_score = comment[2]\n",
    "        # (1 - (level * 0.1)) * score\n",
    "        weighted_score = (1 - (comment_level * 0.1)) * comment_score\n",
    "        r += weighted_score\n",
    "    return r\n",
    "\n",
    "# ----- Bitcoin Daily Discussion\n",
    "\n",
    "# Število vseh komentarjev\n",
    "bitcoinDD_totalNumOfComments = []\n",
    "for submission in bitcoinDD_submissions:\n",
    "    bitcoinDD_totalNumOfComments.append(totalNumOfCommentsForSubmission(submission))\n",
    "\n",
    "# Score komentarjev\n",
    "bitcoinDD_commentScore = []\n",
    "for submission in bitcoinDD_submissions:\n",
    "    bitcoinDD_commentScore.append(commentScoreForSubmission(submission))\n",
    "\n",
    "# Weighted Score Komentarjev\n",
    "bitcoinDD_weightedCommentScore = []\n",
    "for submission in bitcoinDD_submissions:\n",
    "    bitcoinDD_weightedCommentScore.append(weightedCommentScoreForSubmission(submission))\n",
    "    \n",
    "# ----- CryptoCurrency\n",
    "\n",
    "# Število vseh komentarjev\n",
    "cryptocurrencyDD_totalNumOfComments = []\n",
    "for submission in cryptocurrencyDD_submissions:\n",
    "    cryptocurrencyDD_totalNumOfComments.append(totalNumOfCommentsForSubmission(submission))\n",
    "\n",
    "# Score komentarjev\n",
    "cryptocurrencyDD_commentScore = []\n",
    "for submission in cryptocurrencyDD_submissions:\n",
    "    cryptocurrencyDD_commentScore.append(commentScoreForSubmission(submission))\n",
    "\n",
    "# Weighted Score Komentarjev\n",
    "cryptocurrencyDD_weightedCommentScore = []\n",
    "for submission in cryptocurrencyDD_submissions:\n",
    "    cryptocurrencyDD_weightedCommentScore.append(weightedCommentScoreForSubmission(submission))\n",
    "\n",
    "# ----- Skupaj\n",
    "# Šrevilo vseh komenrarjev\n",
    "dd_totalNumOfComments = [0 for day in dd_dates]\n",
    "for i, num in enumerate(bitcoinDD_totalNumOfComments):\n",
    "    dd_totalNumOfComments[i] += num\n",
    "for i, num in enumerate(cryptocurrencyDD_totalNumOfComments):\n",
    "    dd_totalNumOfComments[i] += num\n",
    "\n",
    "# Score komentarjev\n",
    "dd_commentScore = [0 for day in dd_dates]\n",
    "for i, num in enumerate(bitcoinDD_commentScore):\n",
    "    dd_commentScore[i] += num\n",
    "for i, num in enumerate(cryptocurrencyDD_commentScore):\n",
    "    dd_commentScore[i] += num\n",
    "\n",
    "# Weighted Score Komentarjev\n",
    "dd_weightedCommentScore = [0 for day in dd_dates]\n",
    "for i, num in enumerate(bitcoinDD_weightedCommentScore):\n",
    "    dd_weightedCommentScore[i] += num\n",
    "for i, num in enumerate(cryptocurrencyDD_weightedCommentScore):\n",
    "    dd_weightedCommentScore[i] += num\n",
    "\n",
    "print()\n",
    "print()\n",
    "print(\"Število komentarjev po dnevih:\")\n",
    "print(\" -> Bitcoin\")\n",
    "print(bitcoinDD_totalNumOfComments)\n",
    "print(\" -> CryptoCurrency\")\n",
    "print(cryptocurrencyDD_totalNumOfComments)\n",
    "print()\n",
    "print(\"Score vseh komentarjev po dnevih:\")\n",
    "print(\" -> Bitcoin\")\n",
    "print(bitcoinDD_commentScore)\n",
    "print(\" -> CryptoCurrency\")\n",
    "print(cryptocurrencyDD_commentScore)\n",
    "print()\n",
    "print(\"Utežen score vseh komentarjev po dnevih:\")\n",
    "print(\" -> Bitcoin\")\n",
    "print([round(x) for x in bitcoinDD_weightedCommentScore])\n",
    "print(\" -> CryptoCurrency\")\n",
    "print([round(x) for x in cryptocurrencyDD_weightedCommentScore])"
   ]
  },
  {
   "cell_type": "code",
   "execution_count": 8,
   "metadata": {},
   "outputs": [],
   "source": [
    "def print_result(correct_predictions, actual_predictions):\n",
    "    numOfCorrect = 0\n",
    "    numOfIncorrect = 0\n",
    "    \n",
    "    print(\"Pravilno\", \"Predvideno\", \"jeEnako\")\n",
    "    print(\"---------------------------------------\")\n",
    "    for i in range(len(correct_predictions)):\n",
    "        correct_prediction = correct_predictions[i]\n",
    "        actual_prediction = actual_predictions[i]\n",
    "\n",
    "        isSame = correct_prediction == actual_prediction\n",
    "        if isSame:\n",
    "            numOfCorrect += 1\n",
    "        else:\n",
    "            numOfIncorrect += 1\n",
    "\n",
    "        print(str(correct_prediction).rjust(8), str(actual_prediction).rjust(10), str(isSame).rjust(7))\n",
    "\n",
    "    print()\n",
    "    print(str(numOfCorrect) + \"/\" + str(numOfCorrect + numOfIncorrect))"
   ]
  },
  {
   "cell_type": "markdown",
   "metadata": {},
   "source": [
    "## Predikcija glede na povprečje\n",
    "\n",
    "Analizirali bomo različne lastnosti komentarjev in si s povprečjem pomagali, da s pomočjo teh lastnosti nato napoveno spremembo cene.\n",
    "\n",
    "Izpisali bomo kakšna bi bila pravilna napoved ter kako smo gibanje cene predvidili mi."
   ]
  },
  {
   "cell_type": "markdown",
   "metadata": {},
   "source": [
    "### Število komentarjev\n",
    "\n",
    "Predvidevamo da obstaja korelacija med ceno Bitcoina in številom komentarjev: npr.višja cena ustvarja več zanimanja in posledično več komentarjev, in obratno več komentarjev nakazuje večje zanimanje in tako večjo ceno."
   ]
  },
  {
   "cell_type": "code",
   "execution_count": 9,
   "metadata": {},
   "outputs": [
    {
     "name": "stdout",
     "output_type": "stream",
     "text": [
      "Povprečno število komentarjev:\n",
      "696.0\n",
      "\n",
      "Pravilno Predvideno jeEnako\n",
      "---------------------------------------\n",
      "       1         -1   False\n",
      "      -1         -1    True\n",
      "      -1          1   False\n",
      "      -1          1   False\n",
      "       1          1    True\n",
      "      -1         -1    True\n",
      "      -1         -1    True\n",
      "       1          1    True\n",
      "       1         -1   False\n",
      "\n",
      "5/9\n"
     ]
    }
   ],
   "source": [
    "# Izračuna povprečno število komentarjev\n",
    "dd_totalNumOfComments_mean = np.mean(dd_totalNumOfComments)\n",
    "\n",
    "print(\"Povprečno število komentarjev:\")\n",
    "print(dd_totalNumOfComments_mean)\n",
    "print()\n",
    "\n",
    "# Makes predictions\n",
    "dd_totalNumOfComments_mean_predictions = []\n",
    "for numOfComments in dd_totalNumOfComments:\n",
    "    if numOfComments > dd_totalNumOfComments_mean:\n",
    "        prediction = 1\n",
    "    if numOfComments == dd_totalNumOfComments_mean:\n",
    "        prediction = 0\n",
    "    if numOfComments < dd_totalNumOfComments_mean:\n",
    "        prediction = -1\n",
    "    \n",
    "    dd_totalNumOfComments_mean_predictions.append(prediction)\n",
    "    \n",
    "# removes last prediction becouse there is no correct-prediction data for it\n",
    "dd_totalNumOfComments_mean_predictions = dd_totalNumOfComments_mean_predictions[:-1]\n",
    "\n",
    "print_result(bitstamp_price_correctPredictions, dd_totalNumOfComments_mean_predictions)"
   ]
  },
  {
   "cell_type": "markdown",
   "metadata": {},
   "source": [
    "### Skupen score\n",
    "\n",
    "Podobno kot v prejšnji točki predvidevamo da višja cena ustvarja večje zanimanje in obratno, vendar pa se tokrat ne osredotočamo na število komentarjev temveč na skupno oceno (score) komentarjev."
   ]
  },
  {
   "cell_type": "code",
   "execution_count": 10,
   "metadata": {},
   "outputs": [
    {
     "name": "stdout",
     "output_type": "stream",
     "text": [
      "Mean comments score:\n",
      "2518.5\n",
      "Pravilno Predvideno jeEnako\n",
      "---------------------------------------\n",
      "       1          1    True\n",
      "      -1          1   False\n",
      "      -1          1   False\n",
      "      -1          1   False\n",
      "       1          1    True\n",
      "      -1         -1    True\n",
      "      -1         -1    True\n",
      "       1          1    True\n",
      "       1         -1   False\n",
      "\n",
      "5/9\n"
     ]
    }
   ],
   "source": [
    "# Izračuna povprečen Score\n",
    "dd_commentsScore_mean = np.mean(dd_commentScore)\n",
    "\n",
    "print(\"Mean comments score:\")\n",
    "print(dd_commentsScore_mean)\n",
    "\n",
    "# Makes predictions\n",
    "dd_commentsScore_mean_predictions = []\n",
    "for commentsScore in dd_commentScore:\n",
    "    if commentsScore > dd_commentsScore_mean:\n",
    "        prediction = 1\n",
    "    if commentsScore == dd_commentsScore_mean:\n",
    "        prediction = 0\n",
    "    if commentsScore < dd_commentsScore_mean:\n",
    "        prediction = -1\n",
    "    \n",
    "    dd_commentsScore_mean_predictions.append(prediction)\n",
    "    \n",
    "# removes last prediction becouse there is no correct-prediction data for it\n",
    "dd_commentsScore_mean_predictions = dd_commentsScore_mean_predictions[:-1]\n",
    "\n",
    "print_result(bitstamp_price_correctPredictions, dd_commentsScore_mean_predictions)"
   ]
  },
  {
   "cell_type": "markdown",
   "metadata": {},
   "source": [
    "## Predikcija glede na prejšnji dan\n",
    "\n",
    "Cena Bitcoina se močno spreminja in zato verjetno ni pametno da se preveč zanašamo na povprečje. Bolje bi bilo da bi se za referenco sklicevali samo na nekaj prejšnjih dni. Ker pa se cena v enem dnevu lahko tako drastično spremeni se bomo za primerjavo raje osredotočili samo na prejšnji dan."
   ]
  },
  {
   "cell_type": "code",
   "execution_count": 11,
   "metadata": {},
   "outputs": [
    {
     "name": "stdout",
     "output_type": "stream",
     "text": [
      "Correct price predictions (for Bitstamp, when using yesterday predictions):\n",
      "[-1, -1, -1, 1, -1, -1, 1, 1]\n"
     ]
    }
   ],
   "source": [
    "bitstamp_price_yesterdayCorrectPredictions = bitstamp_price_correctPredictions[1:]\n",
    "print(\"Correct price predictions (for Bitstamp, when using yesterday predictions):\")\n",
    "print(bitstamp_price_yesterdayCorrectPredictions)"
   ]
  },
  {
   "cell_type": "markdown",
   "metadata": {},
   "source": [
    "### Število komentarjev"
   ]
  },
  {
   "cell_type": "code",
   "execution_count": 12,
   "metadata": {},
   "outputs": [
    {
     "name": "stdout",
     "output_type": "stream",
     "text": [
      "Pravilno Predvideno jeEnako\n",
      "---------------------------------------\n",
      "      -1          1   False\n",
      "      -1          1   False\n",
      "      -1         -1    True\n",
      "       1          1    True\n",
      "      -1         -1    True\n",
      "      -1         -1    True\n",
      "       1          1    True\n",
      "       1         -1   False\n",
      "\n",
      "5/8\n"
     ]
    }
   ],
   "source": [
    "# Makes predictions\n",
    "dd_totalNumOfComments_yesterday_predictions = []\n",
    "yesterday_numOfComments = None\n",
    "for numOfComments in dd_totalNumOfComments:\n",
    "    if yesterday_numOfComments == None:\n",
    "        yesterday_numOfComments = numOfComments\n",
    "        continue\n",
    "    \n",
    "    if numOfComments > yesterday_numOfComments:\n",
    "        prediction = 1\n",
    "    if numOfComments == yesterday_numOfComments:\n",
    "        prediction = 0\n",
    "    if numOfComments < yesterday_numOfComments:\n",
    "        prediction = -1\n",
    "        \n",
    "    yesterday_numOfComments = numOfComments\n",
    "    \n",
    "    dd_totalNumOfComments_yesterday_predictions.append(prediction)\n",
    "    \n",
    "    \n",
    "# removes last prediction becouse there is no correct-prediction data for it\n",
    "dd_totalNumOfComments_yesterday_predictions = dd_totalNumOfComments_yesterday_predictions[:-1]\n",
    "\n",
    "print_result(bitstamp_price_yesterdayCorrectPredictions, dd_totalNumOfComments_yesterday_predictions)"
   ]
  },
  {
   "cell_type": "markdown",
   "metadata": {},
   "source": [
    "### Skupen score"
   ]
  },
  {
   "cell_type": "code",
   "execution_count": 13,
   "metadata": {},
   "outputs": [
    {
     "name": "stdout",
     "output_type": "stream",
     "text": [
      "Pravilno Predvideno jeEnako\n",
      "---------------------------------------\n",
      "      -1          1   False\n",
      "      -1         -1    True\n",
      "      -1         -1    True\n",
      "       1          1    True\n",
      "      -1         -1    True\n",
      "      -1         -1    True\n",
      "       1          1    True\n",
      "       1         -1   False\n",
      "\n",
      "6/8\n"
     ]
    }
   ],
   "source": [
    "# Makes predictions\n",
    "dd_commentsScore_yesterday_predictions = []\n",
    "yesterday_commentsScore = None\n",
    "for commentsScore in dd_commentScore:\n",
    "    if yesterday_commentsScore == None:\n",
    "        yesterday_commentsScore = commentsScore\n",
    "        continue\n",
    "    \n",
    "    if commentsScore > yesterday_commentsScore:\n",
    "        prediction = 1\n",
    "    if commentsScore == yesterday_commentsScore:\n",
    "        prediction = 0\n",
    "    if commentsScore < yesterday_commentsScore:\n",
    "        prediction = -1\n",
    "        \n",
    "    yesterday_commentsScore = commentsScore\n",
    "    \n",
    "    dd_commentsScore_yesterday_predictions.append(prediction)\n",
    "    \n",
    "    \n",
    "# removes last prediction becouse there is no correct-prediction data for it\n",
    "dd_commentsScore_yesterday_predictions = dd_commentsScore_yesterday_predictions[:-1]\n",
    "\n",
    "print_result(bitstamp_price_yesterdayCorrectPredictions, dd_commentsScore_yesterday_predictions)"
   ]
  },
  {
   "cell_type": "markdown",
   "metadata": {},
   "source": [
    "### Ugotovitev\n",
    "\n",
    "Ugotovili smo da večje zanimanje lahko pomeni dvig cene.\n",
    "\n",
    "Ko ugotavljamo ali se je zanimanje zvečalo pa je bolje da se pri Bitcoinih zaradi drastičnih sprememb ne zanašamo samo na povprečje, temveč damo večjo ceno podatkom, ki so bližje tem ki jih trenutno uporabljamo za napovedovanje."
   ]
  },
  {
   "cell_type": "markdown",
   "metadata": {},
   "source": [
    "## Analiza besed\n",
    "\n",
    "Znani rek pravi da ni vse v številkah. Pri našem problemu se to prevede na to da nam število komentarjev bolj malo pove, če sploh ne vemo kakšni komentarji so.\n",
    "\n",
    "V komentarjih bom iskal pozitivne in negativne besede. To so tiste besede ki bi nakazovale rast oz. padanje cene (npr. buy/sell). Glede na najdene besede bom nato vsakemu komentarju priredil neko številko ki nakazuje kako močno je komentar pozitiven/negativen."
   ]
  },
  {
   "cell_type": "code",
   "execution_count": 14,
   "metadata": {},
   "outputs": [],
   "source": [
    "# Besede\n",
    "positive_words = [\n",
    "    \"increase\",\n",
    "    \"high\",\n",
    "    \"top\",\n",
    "    \"buy\",\n",
    "    \"invest\",\n",
    "    \"positive\",\n",
    "    \"up\",\n",
    "    \"good\",\n",
    "    \"happy\",\n",
    "    \"\\+\",\n",
    "    \"gain\"\n",
    "    \"win\",\n",
    "    \"max\",\n",
    "    \"flourish\",\n",
    "    \"rise\",\n",
    "]\n",
    "\n",
    "negative_words = [\n",
    "    \"decrease\",\n",
    "    \"low\",\n",
    "    \"bottom\",\n",
    "    \"sell\",\n",
    "    \"take out\"\n",
    "    \"negative\",\n",
    "    \"down\",\n",
    "    \"bad\",\n",
    "    \"sad\",\n",
    "    \"\\-\",\n",
    "    \"loss\",\n",
    "    \"lose\",\n",
    "    \"min\",\n",
    "    \"decline\",\n",
    "    \"fall\",\n",
    "]\n",
    "\n",
    "compiled_positive_words = [re.compile((word + \".*\")) for word in positive_words]\n",
    "compiled_negative_words = [re.compile((word + \".*\")) for word in negative_words]\n",
    "\n",
    "# Pomožne funkcije \n",
    "\n",
    "def get_num_of_positive_words(text):\n",
    "    r = 0\n",
    "    for word in text.split(\" \"):\n",
    "        for positive_word in compiled_positive_words:\n",
    "            isMatch = bool(re.match(positive_word, word))\n",
    "            if (isMatch):\n",
    "                r+= 1\n",
    "    return r\n",
    "\n",
    "def get_num_of_negative_words(text):\n",
    "    r = 0\n",
    "    for word in text.split(\" \"):\n",
    "        for negative_word in compiled_negative_words:\n",
    "            isMatch = bool(re.match(negative_word, word))\n",
    "            if (isMatch):\n",
    "                r+= 1\n",
    "    return r\n",
    "\n",
    "def predict_from_comment(comment):\n",
    "    comment_content = comment[3]\n",
    "    num_of_positive = get_num_of_positive_words(comment_content)\n",
    "    num_of_negative = get_num_of_negative_words(comment_content)\n",
    "    return num_of_positive - num_of_negative    "
   ]
  },
  {
   "cell_type": "markdown",
   "metadata": {},
   "source": [
    "### Pozitivni negativeni komentarji\n",
    "\n",
    "Dan je ocenjen samo glede na število pozitivnih/negativnih komentarjev."
   ]
  },
  {
   "cell_type": "code",
   "execution_count": 15,
   "metadata": {},
   "outputs": [
    {
     "name": "stdout",
     "output_type": "stream",
     "text": [
      "Pravilno Predvideno jeEnako\n",
      "---------------------------------------\n",
      "       1          1    True\n",
      "      -1          1   False\n",
      "      -1          1   False\n",
      "      -1         -1    True\n",
      "       1          1    True\n",
      "      -1          1   False\n",
      "      -1          1   False\n",
      "       1         -1   False\n",
      "       1          1    True\n",
      "\n",
      "4/9\n"
     ]
    },
    {
     "data": {
      "image/png": "[encoded data removed]",
      "text/plain": [
       "<matplotlib.figure.Figure at 0x7f4e1f2d8ac8>"
      ]
     },
     "metadata": {},
     "output_type": "display_data"
    }
   ],
   "source": [
    "dd_full_predictions = []\n",
    "\n",
    "# bitcoinDD\n",
    "for submission in bitcoinDD_submissions:\n",
    "    submission_prediction = 0\n",
    "    \n",
    "    submission_comments = submission[5]\n",
    "    for comment in submission_comments:\n",
    "        comment_prediction = predict_from_comment(comment)\n",
    "        submission_prediction += comment_prediction\n",
    "        \n",
    "    dd_full_predictions.append(submission_prediction)\n",
    "    \n",
    "# cryptocurrencyDD\n",
    "for i, submission in enumerate(cryptocurrencyDD_submissions):\n",
    "    submission_prediction = 0\n",
    "    \n",
    "    submission_comments = submission[5]\n",
    "    for comment in submission_comments:\n",
    "        comment_prediction = predict_from_comment(comment)\n",
    "        submission_prediction += comment_prediction\n",
    "        \n",
    "    dd_full_predictions[i] += submission_prediction\n",
    "    \n",
    "# removes last prediction becouse there is no correct-prediction data for it\n",
    "dd_full_predictions = dd_full_predictions[:-1]    \n",
    "    \n",
    "# Graf\n",
    "fig, ax = plt.subplots()\n",
    "fig.set_size_inches(10,5)\n",
    "x_es = list(range(len(dd_full_predictions)))\n",
    "plt.plot(x_es, [0 for x in x_es])\n",
    "plt.plot(x_es, dd_full_predictions, linestyle='-',marker=\"o\")\n",
    "x_ticks = [dd_dates[i] for i in x_es]\n",
    "plt.xticks(x_es, x_ticks)\n",
    "plt.title(\"Skupna predikcija komentarjev za naslednji dan\")\n",
    "plt.xlabel(\"Datum\")\n",
    "plt.ylabel(\"predikcija\")\n",
    "\n",
    "# Predikcije sprevi na 0,1,-1\n",
    "dd_predictions = []\n",
    "\n",
    "for full_prediction in dd_full_predictions:\n",
    "    prediction = 0\n",
    "    if full_prediction > 0:\n",
    "        prediction = 1\n",
    "    if full_prediction < 0:\n",
    "        prediction = -1\n",
    "    dd_predictions.append(prediction)\n",
    "    \n",
    "print_result(bitstamp_price_correctPredictions, dd_predictions)"
   ]
  },
  {
   "cell_type": "markdown",
   "metadata": {},
   "source": [
    "### Uteženi komentarji\n",
    "\n",
    "Da iz komentarjev iztisnemo čim več si pomagamo še z levelom in točkami komentarja.\n",
    "\n",
    "Tukaj sklepamo da ko nekdo prebere komentar s katerim se strinja, ne bo šel pisati podobnega komentarja ampak bo ta komentar enostavno dobro ocenil. Tudi Level (globina) komentarja je pomembna saj so komentarji z nižjo globino bolj vidni. Kot vsebino komentarja bomo upoštevali samo tri vrednosti (pozitiven, negativen in nevtralen) s tem se bomo izognili napaki ki bi jo pozročali komentarji ki uporabljajo veliko pozitivnih/negativnih besed (npr. \"I think Bitcoin price will *increase* up to *+*6000$ sou you should definitively *buy*\")"
   ]
  },
  {
   "cell_type": "code",
   "execution_count": 16,
   "metadata": {},
   "outputs": [
    {
     "name": "stdout",
     "output_type": "stream",
     "text": [
      "Pravilno Predvideno jeEnako\n",
      "---------------------------------------\n",
      "       1          1    True\n",
      "      -1         -1    True\n",
      "      -1          1   False\n",
      "      -1          1   False\n",
      "       1          1    True\n",
      "      -1          1   False\n",
      "      -1          1   False\n",
      "       1         -1   False\n",
      "       1          1    True\n",
      "\n",
      "4/9\n"
     ]
    },
    {
     "data": {
      "image/png": "[encoded data removed]",
      "text/plain": [
       "<matplotlib.figure.Figure at 0x7f4e1f27f5f8>"
      ]
     },
     "metadata": {},
     "output_type": "display_data"
    }
   ],
   "source": [
    "dd_full_weightedPredictions = []\n",
    "\n",
    "# bitcoinDD\n",
    "for submission in bitcoinDD_submissions:\n",
    "    submission_prediction = 0\n",
    "    \n",
    "    submission_comments = submission[5]\n",
    "    for comment in submission_comments:\n",
    "        comment_level = comment[0]\n",
    "        comment_score = comment[2]\n",
    "        comment_prediction = predict_from_comment(comment)\n",
    "        if (comment_prediction > 0):\n",
    "            comment_prediction = 1\n",
    "        if (comment_prediction < 0):\n",
    "            comment_prediction = -1      \n",
    "        # ((1 - (level * 0,1)) * score) * (+-1 _odvisno_ali_je_komentar_pozitiven_ali_negativen_)\n",
    "        prediction = ((1 - (comment_level * 0.1)) * comment_score) * comment_prediction\n",
    "        submission_prediction += prediction\n",
    "    \n",
    "    dd_full_weightedPredictions.append(submission_prediction)\n",
    "    \n",
    "# cryptocurrencyDD\n",
    "for i, submission in enumerate(cryptocurrencyDD_submissions):\n",
    "    submission_prediction = 0\n",
    "    \n",
    "    submission_comments = submission[5]\n",
    "    for comment in submission_comments:\n",
    "        comment_level = comment[0]\n",
    "        comment_score = comment[2]\n",
    "        comment_prediction = predict_from_comment(comment)\n",
    "        if (comment_prediction > 0):\n",
    "            comment_prediction = 1\n",
    "        if (comment_prediction < 0):\n",
    "            comment_prediction = -1  \n",
    "        # ((1 - (level * 0,1)) * score) * (+-1 _odvisno_ali_je_komentar_pozitiven_ali_negativen_)\n",
    "        prediction = ((1 - (comment_level * 0.1)) * comment_score) * comment_prediction\n",
    "        submission_prediction += prediction\n",
    "    \n",
    "    dd_full_weightedPredictions[i] += submission_prediction\n",
    "        \n",
    "# removes last prediction becouse there is no correct-prediction data for it\n",
    "dd_full_weightedPredictions = dd_full_weightedPredictions[:-1]         \n",
    "        \n",
    "# Graf\n",
    "fig, ax = plt.subplots()\n",
    "fig.set_size_inches(10,5)\n",
    "x_es = list(range(len(dd_full_weightedPredictions)))\n",
    "plt.plot(x_es, [0 for x in x_es])\n",
    "plt.plot(x_es, dd_full_weightedPredictions, linestyle='-',marker=\"o\")\n",
    "x_ticks = [dd_dates[i] for i in x_es]\n",
    "plt.xticks(x_es, x_ticks)\n",
    "plt.title(\"Skupna utežena predikcija komentarjev za naslednji dan\")\n",
    "plt.xlabel(\"Datum\")\n",
    "plt.ylabel(\"predikcija\")\n",
    "\n",
    "dd_predictions = []\n",
    "for full_prediction in dd_full_weightedPredictions:\n",
    "    prediction = 0\n",
    "    if full_prediction > 0:\n",
    "        prediction = 1\n",
    "    if full_prediction < 0:\n",
    "        prediction = -1\n",
    "    dd_predictions.append(prediction)\n",
    "    \n",
    "print_result(bitstamp_price_correctPredictions, dd_predictions)"
   ]
  },
  {
   "cell_type": "markdown",
   "metadata": {},
   "source": [
    "### Ugotovitev\n",
    "\n",
    "Pri napovedovanju s pomočjo analize besed nismo bili preveč uspešni. Verjetno del problema leži v tem da nismo upoštevali da so lahko besede tudi negativne (npr. \"will not increase\"). \n",
    "\n",
    "Še večji problem pa bi znal priti iz osnovne človeške psihologije, če pomislimo nas že kot otroke učijo naj na življenje gledamo s pozitivne strani, res je da hočemo iz problemov kot je pogovor o ceni izpustiti vsa čustve, vendar pa je to zaradi človeške narave skoraj nemogoče. In res kakšen bi bil svet če bi bili sami negativci."
   ]
  },
  {
   "cell_type": "code",
   "execution_count": null,
   "metadata": {},
   "outputs": [],
   "source": []
  }
 ],
 "metadata": {
  "kernelspec": {
   "display_name": "Python 3",
   "language": "python",
   "name": "python3"
  },
  "language_info": {
   "codemirror_mode": {
    "name": "ipython",
    "version": 3
   },
   "file_extension": ".py",
   "mimetype": "text/x-python",
   "name": "python",
   "nbconvert_exporter": "python",
   "pygments_lexer": "ipython3",
   "version": "3.5.2"
  }
 },
 "nbformat": 4,
 "nbformat_minor": 2
}
