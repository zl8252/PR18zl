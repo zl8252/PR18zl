{
 "cells": [
  {
   "cell_type": "markdown",
   "metadata": {},
   "source": [
    "# Reddit za napovedovanje cene Bitcoinov"
   ]
  },
  {
   "cell_type": "markdown",
   "metadata": {},
   "source": [
    "## Opis problema"
   ]
  },
  {
   "cell_type": "markdown",
   "metadata": {},
   "source": [
    "## Opis podatkov"
   ]
  },
  {
   "cell_type": "markdown",
   "metadata": {},
   "source": [
    "### Cena Bitcoinov\n",
    "\n",
    "Cena Bitcoinov je pridobljena iz spletnih strani [Bitstamp](https://www.bitstamp.net/) in [CoinMarketCap](https://coinmarketcap.com/).\n",
    "\n",
    "Cena je v evrih in je pridobljena za vsak dan ob približno isti uri."
   ]
  },
  {
   "cell_type": "markdown",
   "metadata": {},
   "source": [
    "### Reddit podatki\n",
    "\n",
    "Program za pridobivanje podatkov je shranjen v datoteki \"/reddit_data_getter/reddit_data_getter.py\". Skript za dostop do Reddita uporablja knjižnico [PRAW](https://github.com/praw-dev/praw). Podatki so shranjeni vsak dan ob enaki uri kot kot je pridobljena cena Bitcoinov.\n",
    "\n",
    "Reddit podatki so shranjeni v \"/data/reddit/\", grupirani pa so po Subredditih in dnevih. Za vsak dan za vsak Subreddit je maksimalno 10 datotek. Te predstavljajo \"top\" submissione (objave) s časovnim filtrom \"day\".\n",
    "\n",
    "Za vsako izmed objav je shranjeno:\n",
    "\n",
    "* iz katerega Subreddita prihaja\n",
    "* naslov objave\n",
    "* kdaj je bila objavljena\n",
    "* točke objave\n",
    "\n",
    "Prav tako je za vsako objavo shranjenih večina komentarjev. Za vsak komentart je shranjeno:\n",
    "\n",
    "* Level komentarja (komentar objave ima level 0, komentar komentarja ima level 1, ...)\n",
    "* kdaj je bil komentar ustvarjen\n",
    "* točke komentarja\n",
    "* vsebina komentarja\n",
    "\n",
    "Podatki so pridobljeni iz naslednjih Subredditov:\n",
    "\n",
    "* /r/Bitcoin\n",
    "* /r/btc\n",
    "* /r/BTCNews\n",
    "* /r/CryptoCurrency\n",
    "* /r/BitcoinMarkets\n",
    "\n",
    "Posebej so shranjene objave \"Daily Discussion\" iz Subredditov /r/Bitcoin in /r/CryptoCurrency. Če je Dnevna Razprava dovolj popularna je shranjena tudi v podatkih o \"top\" dnevnih objavah."
   ]
  },
  {
   "cell_type": "markdown",
   "metadata": {},
   "source": [
    "## Pregled podatkov"
   ]
  },
  {
   "cell_type": "markdown",
   "metadata": {},
   "source": [
    "### Osnovne statistike\n",
    "\n",
    "**Povprečna cena:**\n",
    "\n",
    "* Bitstamp: 5615.642\n",
    "* CoinMarketCap: 5636.264\n",
    "\n",
    "**Najvišja/Najnižja cena:**\n",
    "\n",
    "* Bitstamp najvišja: 6103.0\n",
    "* Bitstamp najnižja: 5395.0\n",
    "* CoinMarketCap najvišja: 6120.96\n",
    "* CoinMarketCap najnižja: 5411.49\n",
    "\n",
    "![Cena Bitcoina](assets/cena_bitcoina.png)\n",
    "\n",
    "Opazimo da se ceni obeh tržišč razlikujeta le za nekaj evrov, ter da sledita enakim trendom (če se zviša ena se zviša tudi druga).\n",
    "\n",
    "### Daily Discussion\n",
    "\n",
    "![Št. Level_0 komentarjev](assets/daily_discussion_st_komentarjev.png)\n",
    "\n",
    "Število level 0 komentarjev je pri /r/CryptoCurrency večje. Trend naraščanja/updanja števila komentarjev pa je pri obeh subredditih zelo podoben.\n",
    "\n",
    "### Število komentarjev\n",
    "\n",
    "![Št. komentarjev po dnevih](assets/subreddits_st_komentarjev.png)\n",
    "\n",
    "Ugotovil sem da na /r/btcNews skoraj nihče ne komentira. Ta subreddit bom zaradi tega razloga v nadalnih analizah izpustil\n",
    "\n",
    "### Točke komentarja\n",
    "\n",
    "![Povprešen Score Komentarja](assets/subreddits_mean_comment_score.png)\n",
    "\n",
    "### Komentarji z 1 in >1 točkami\n",
    "\n",
    "![komentarji_z_1_in_>1_tockami](assets/subreddits_comments_with_score1.png)\n"
   ]
  },
  {
   "cell_type": "code",
   "execution_count": null,
   "metadata": {},
   "outputs": [],
   "source": []
  }
 ],
 "metadata": {
  "kernelspec": {
   "display_name": "Python 3",
   "language": "python",
   "name": "python3"
  },
  "language_info": {
   "codemirror_mode": {
    "name": "ipython",
    "version": 3
   },
   "file_extension": ".py",
   "mimetype": "text/x-python",
   "name": "python",
   "nbconvert_exporter": "python",
   "pygments_lexer": "ipython3",
   "version": "3.5.2"
  }
 },
 "nbformat": 4,
 "nbformat_minor": 2
}
